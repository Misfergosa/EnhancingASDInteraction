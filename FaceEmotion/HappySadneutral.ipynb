{
  "cells": [
    {
      "cell_type": "code",
      "execution_count": null,
      "metadata": {
        "colab": {
          "base_uri": "https://localhost:8080/"
        },
        "id": "YvLxBRIi124T",
        "outputId": "ecff965f-4124-41c4-9ee5-ee3277840956"
      },
      "outputs": [
        {
          "output_type": "stream",
          "name": "stdout",
          "text": [
            "Collecting ultralytics\n",
            "  Downloading ultralytics-8.2.28-py3-none-any.whl (779 kB)\n",
            "\u001b[2K     \u001b[90m━━━━━━━━━━━━━━━━━━━━━━━━━━━━━━━━━━━━━━━━\u001b[0m \u001b[32m779.6/779.6 kB\u001b[0m \u001b[31m9.3 MB/s\u001b[0m eta \u001b[36m0:00:00\u001b[0m\n",
            "\u001b[?25hRequirement already satisfied: matplotlib>=3.3.0 in /usr/local/lib/python3.10/dist-packages (from ultralytics) (3.7.1)\n",
            "Requirement already satisfied: opencv-python>=4.6.0 in /usr/local/lib/python3.10/dist-packages (from ultralytics) (4.8.0.76)\n",
            "Requirement already satisfied: pillow>=7.1.2 in /usr/local/lib/python3.10/dist-packages (from ultralytics) (9.4.0)\n",
            "Requirement already satisfied: pyyaml>=5.3.1 in /usr/local/lib/python3.10/dist-packages (from ultralytics) (6.0.1)\n",
            "Requirement already satisfied: requests>=2.23.0 in /usr/local/lib/python3.10/dist-packages (from ultralytics) (2.31.0)\n",
            "Requirement already satisfied: scipy>=1.4.1 in /usr/local/lib/python3.10/dist-packages (from ultralytics) (1.11.4)\n",
            "Requirement already satisfied: torch>=1.8.0 in /usr/local/lib/python3.10/dist-packages (from ultralytics) (2.3.0+cu121)\n",
            "Requirement already satisfied: torchvision>=0.9.0 in /usr/local/lib/python3.10/dist-packages (from ultralytics) (0.18.0+cu121)\n",
            "Requirement already satisfied: tqdm>=4.64.0 in /usr/local/lib/python3.10/dist-packages (from ultralytics) (4.66.4)\n",
            "Requirement already satisfied: psutil in /usr/local/lib/python3.10/dist-packages (from ultralytics) (5.9.5)\n",
            "Requirement already satisfied: py-cpuinfo in /usr/local/lib/python3.10/dist-packages (from ultralytics) (9.0.0)\n",
            "Requirement already satisfied: pandas>=1.1.4 in /usr/local/lib/python3.10/dist-packages (from ultralytics) (2.0.3)\n",
            "Requirement already satisfied: seaborn>=0.11.0 in /usr/local/lib/python3.10/dist-packages (from ultralytics) (0.13.1)\n",
            "Collecting ultralytics-thop>=0.2.5 (from ultralytics)\n",
            "  Downloading ultralytics_thop-0.2.7-py3-none-any.whl (25 kB)\n",
            "Requirement already satisfied: contourpy>=1.0.1 in /usr/local/lib/python3.10/dist-packages (from matplotlib>=3.3.0->ultralytics) (1.2.1)\n",
            "Requirement already satisfied: cycler>=0.10 in /usr/local/lib/python3.10/dist-packages (from matplotlib>=3.3.0->ultralytics) (0.12.1)\n",
            "Requirement already satisfied: fonttools>=4.22.0 in /usr/local/lib/python3.10/dist-packages (from matplotlib>=3.3.0->ultralytics) (4.52.4)\n",
            "Requirement already satisfied: kiwisolver>=1.0.1 in /usr/local/lib/python3.10/dist-packages (from matplotlib>=3.3.0->ultralytics) (1.4.5)\n",
            "Requirement already satisfied: numpy>=1.20 in /usr/local/lib/python3.10/dist-packages (from matplotlib>=3.3.0->ultralytics) (1.25.2)\n",
            "Requirement already satisfied: packaging>=20.0 in /usr/local/lib/python3.10/dist-packages (from matplotlib>=3.3.0->ultralytics) (24.0)\n",
            "Requirement already satisfied: pyparsing>=2.3.1 in /usr/local/lib/python3.10/dist-packages (from matplotlib>=3.3.0->ultralytics) (3.1.2)\n",
            "Requirement already satisfied: python-dateutil>=2.7 in /usr/local/lib/python3.10/dist-packages (from matplotlib>=3.3.0->ultralytics) (2.8.2)\n",
            "Requirement already satisfied: pytz>=2020.1 in /usr/local/lib/python3.10/dist-packages (from pandas>=1.1.4->ultralytics) (2023.4)\n",
            "Requirement already satisfied: tzdata>=2022.1 in /usr/local/lib/python3.10/dist-packages (from pandas>=1.1.4->ultralytics) (2024.1)\n",
            "Requirement already satisfied: charset-normalizer<4,>=2 in /usr/local/lib/python3.10/dist-packages (from requests>=2.23.0->ultralytics) (3.3.2)\n",
            "Requirement already satisfied: idna<4,>=2.5 in /usr/local/lib/python3.10/dist-packages (from requests>=2.23.0->ultralytics) (3.7)\n",
            "Requirement already satisfied: urllib3<3,>=1.21.1 in /usr/local/lib/python3.10/dist-packages (from requests>=2.23.0->ultralytics) (2.0.7)\n",
            "Requirement already satisfied: certifi>=2017.4.17 in /usr/local/lib/python3.10/dist-packages (from requests>=2.23.0->ultralytics) (2024.2.2)\n",
            "Requirement already satisfied: filelock in /usr/local/lib/python3.10/dist-packages (from torch>=1.8.0->ultralytics) (3.14.0)\n",
            "Requirement already satisfied: typing-extensions>=4.8.0 in /usr/local/lib/python3.10/dist-packages (from torch>=1.8.0->ultralytics) (4.12.0)\n",
            "Requirement already satisfied: sympy in /usr/local/lib/python3.10/dist-packages (from torch>=1.8.0->ultralytics) (1.12.1)\n",
            "Requirement already satisfied: networkx in /usr/local/lib/python3.10/dist-packages (from torch>=1.8.0->ultralytics) (3.3)\n",
            "Requirement already satisfied: jinja2 in /usr/local/lib/python3.10/dist-packages (from torch>=1.8.0->ultralytics) (3.1.4)\n",
            "Requirement already satisfied: fsspec in /usr/local/lib/python3.10/dist-packages (from torch>=1.8.0->ultralytics) (2023.6.0)\n",
            "Collecting nvidia-cuda-nvrtc-cu12==12.1.105 (from torch>=1.8.0->ultralytics)\n",
            "  Using cached nvidia_cuda_nvrtc_cu12-12.1.105-py3-none-manylinux1_x86_64.whl (23.7 MB)\n",
            "Collecting nvidia-cuda-runtime-cu12==12.1.105 (from torch>=1.8.0->ultralytics)\n",
            "  Using cached nvidia_cuda_runtime_cu12-12.1.105-py3-none-manylinux1_x86_64.whl (823 kB)\n",
            "Collecting nvidia-cuda-cupti-cu12==12.1.105 (from torch>=1.8.0->ultralytics)\n",
            "  Using cached nvidia_cuda_cupti_cu12-12.1.105-py3-none-manylinux1_x86_64.whl (14.1 MB)\n",
            "Collecting nvidia-cudnn-cu12==8.9.2.26 (from torch>=1.8.0->ultralytics)\n",
            "  Using cached nvidia_cudnn_cu12-8.9.2.26-py3-none-manylinux1_x86_64.whl (731.7 MB)\n",
            "Collecting nvidia-cublas-cu12==12.1.3.1 (from torch>=1.8.0->ultralytics)\n",
            "  Using cached nvidia_cublas_cu12-12.1.3.1-py3-none-manylinux1_x86_64.whl (410.6 MB)\n",
            "Collecting nvidia-cufft-cu12==11.0.2.54 (from torch>=1.8.0->ultralytics)\n",
            "  Using cached nvidia_cufft_cu12-11.0.2.54-py3-none-manylinux1_x86_64.whl (121.6 MB)\n",
            "Collecting nvidia-curand-cu12==10.3.2.106 (from torch>=1.8.0->ultralytics)\n",
            "  Using cached nvidia_curand_cu12-10.3.2.106-py3-none-manylinux1_x86_64.whl (56.5 MB)\n",
            "Collecting nvidia-cusolver-cu12==11.4.5.107 (from torch>=1.8.0->ultralytics)\n",
            "  Using cached nvidia_cusolver_cu12-11.4.5.107-py3-none-manylinux1_x86_64.whl (124.2 MB)\n",
            "Collecting nvidia-cusparse-cu12==12.1.0.106 (from torch>=1.8.0->ultralytics)\n",
            "  Using cached nvidia_cusparse_cu12-12.1.0.106-py3-none-manylinux1_x86_64.whl (196.0 MB)\n",
            "Collecting nvidia-nccl-cu12==2.20.5 (from torch>=1.8.0->ultralytics)\n",
            "  Using cached nvidia_nccl_cu12-2.20.5-py3-none-manylinux2014_x86_64.whl (176.2 MB)\n",
            "Collecting nvidia-nvtx-cu12==12.1.105 (from torch>=1.8.0->ultralytics)\n",
            "  Using cached nvidia_nvtx_cu12-12.1.105-py3-none-manylinux1_x86_64.whl (99 kB)\n",
            "Requirement already satisfied: triton==2.3.0 in /usr/local/lib/python3.10/dist-packages (from torch>=1.8.0->ultralytics) (2.3.0)\n",
            "Collecting nvidia-nvjitlink-cu12 (from nvidia-cusolver-cu12==11.4.5.107->torch>=1.8.0->ultralytics)\n",
            "  Downloading nvidia_nvjitlink_cu12-12.5.40-py3-none-manylinux2014_x86_64.whl (21.3 MB)\n",
            "\u001b[2K     \u001b[90m━━━━━━━━━━━━━━━━━━━━━━━━━━━━━━━━━━━━━━━━\u001b[0m \u001b[32m21.3/21.3 MB\u001b[0m \u001b[31m48.8 MB/s\u001b[0m eta \u001b[36m0:00:00\u001b[0m\n",
            "\u001b[?25hRequirement already satisfied: six>=1.5 in /usr/local/lib/python3.10/dist-packages (from python-dateutil>=2.7->matplotlib>=3.3.0->ultralytics) (1.16.0)\n",
            "Requirement already satisfied: MarkupSafe>=2.0 in /usr/local/lib/python3.10/dist-packages (from jinja2->torch>=1.8.0->ultralytics) (2.1.5)\n",
            "Requirement already satisfied: mpmath<1.4.0,>=1.1.0 in /usr/local/lib/python3.10/dist-packages (from sympy->torch>=1.8.0->ultralytics) (1.3.0)\n",
            "Installing collected packages: nvidia-nvtx-cu12, nvidia-nvjitlink-cu12, nvidia-nccl-cu12, nvidia-curand-cu12, nvidia-cufft-cu12, nvidia-cuda-runtime-cu12, nvidia-cuda-nvrtc-cu12, nvidia-cuda-cupti-cu12, nvidia-cublas-cu12, nvidia-cusparse-cu12, nvidia-cudnn-cu12, nvidia-cusolver-cu12, ultralytics-thop, ultralytics\n",
            "Successfully installed nvidia-cublas-cu12-12.1.3.1 nvidia-cuda-cupti-cu12-12.1.105 nvidia-cuda-nvrtc-cu12-12.1.105 nvidia-cuda-runtime-cu12-12.1.105 nvidia-cudnn-cu12-8.9.2.26 nvidia-cufft-cu12-11.0.2.54 nvidia-curand-cu12-10.3.2.106 nvidia-cusolver-cu12-11.4.5.107 nvidia-cusparse-cu12-12.1.0.106 nvidia-nccl-cu12-2.20.5 nvidia-nvjitlink-cu12-12.5.40 nvidia-nvtx-cu12-12.1.105 ultralytics-8.2.28 ultralytics-thop-0.2.7\n"
          ]
        }
      ],
      "source": [
        "!pip install ultralytics"
      ]
    },
    {
      "cell_type": "code",
      "execution_count": null,
      "metadata": {
        "colab": {
          "base_uri": "https://localhost:8080/"
        },
        "id": "rr2Byfmp1-R5",
        "outputId": "d72c29d3-5260-467b-e765-cfa4cf530be4"
      },
      "outputs": [
        {
          "output_type": "stream",
          "name": "stdout",
          "text": [
            "Downloading https://github.com/ultralytics/assets/releases/download/v8.2.0/yolov8n.pt to '/content/yolov8n.pt'...\n"
          ]
        },
        {
          "output_type": "stream",
          "name": "stderr",
          "text": [
            "100%|██████████| 6.23M/6.23M [00:00<00:00, 184MB/s]\n"
          ]
        }
      ],
      "source": [
        "from ultralytics import YOLO\n",
        "\n",
        "model = YOLO('/content/yolov8n.pt')"
      ]
    },
    {
      "cell_type": "code",
      "execution_count": null,
      "metadata": {
        "colab": {
          "base_uri": "https://localhost:8080/"
        },
        "id": "EuLAbJeh2U-V",
        "outputId": "baba51f3-09e6-476e-daf2-84006876aa1f"
      },
      "outputs": [
        {
          "output_type": "stream",
          "name": "stdout",
          "text": [
            "Archive:  /content/emotion.v2i.yolov8.zip\n",
            "  inflating: README.dataset.txt      \n",
            "  inflating: README.roboflow.txt     \n",
            "  inflating: data.yaml               \n",
            "   creating: test/\n",
            "   creating: test/images/\n",
            " extracting: test/images/-19-_jpg.rf.2ea85e2f4086a46aac02eadf7506e278.jpg  \n",
            " extracting: test/images/-26-_jpg.rf.567fe81e6c9575e61ffa58de4adf0aac.jpg  \n",
            " extracting: test/images/-32-_jpg.rf.4e626e77bc08ad04c335848fa7d72200.jpg  \n",
            " extracting: test/images/-34-_jpg.rf.03bcfd875e3cdafb5c48a5c130bdbfc7.jpg  \n",
            " extracting: test/images/-35-_jpg.rf.982fd7371e12217167885374007f5809.jpg  \n",
            " extracting: test/images/-43-_jpg.rf.0c47ddfbcac45e1dea57d0c900ca3552.jpg  \n",
            " extracting: test/images/-51-_jpg.rf.0445883844079b4f8d87a751e5dbc7c6.jpg  \n",
            " extracting: test/images/-52-_jpg.rf.f7f2c5e0e367ff84ae3d6957fb0841e2.jpg  \n",
            " extracting: test/images/Screenshot-2024-05-25-194900_png.rf.fde55cd5e142be8fdfcbc6d54ffcb929.jpg  \n",
            " extracting: test/images/Screenshot-2024-05-25-195304_png.rf.df08ac68c913c0557fc8a0b1d1b2d1cd.jpg  \n",
            " extracting: test/images/Screenshot-2024-05-25-195535_png.rf.90255b353c342d06dfabe9f260b4cec2.jpg  \n",
            " extracting: test/images/neutral_jpg.rf.bcfc4a425f0de32e13c5e42f4d473572.jpg  \n",
            " extracting: test/images/saaddd7dee_png.rf.56610db0334ac3d1390da196ac78ec62.jpg  \n",
            "   creating: test/labels/\n",
            "  inflating: test/labels/-19-_jpg.rf.2ea85e2f4086a46aac02eadf7506e278.txt  \n",
            "  inflating: test/labels/-26-_jpg.rf.567fe81e6c9575e61ffa58de4adf0aac.txt  \n",
            "  inflating: test/labels/-32-_jpg.rf.4e626e77bc08ad04c335848fa7d72200.txt  \n",
            "  inflating: test/labels/-34-_jpg.rf.03bcfd875e3cdafb5c48a5c130bdbfc7.txt  \n",
            "  inflating: test/labels/-35-_jpg.rf.982fd7371e12217167885374007f5809.txt  \n",
            "  inflating: test/labels/-43-_jpg.rf.0c47ddfbcac45e1dea57d0c900ca3552.txt  \n",
            "  inflating: test/labels/-51-_jpg.rf.0445883844079b4f8d87a751e5dbc7c6.txt  \n",
            "  inflating: test/labels/-52-_jpg.rf.f7f2c5e0e367ff84ae3d6957fb0841e2.txt  \n",
            "  inflating: test/labels/Screenshot-2024-05-25-194900_png.rf.fde55cd5e142be8fdfcbc6d54ffcb929.txt  \n",
            "  inflating: test/labels/Screenshot-2024-05-25-195304_png.rf.df08ac68c913c0557fc8a0b1d1b2d1cd.txt  \n",
            "  inflating: test/labels/Screenshot-2024-05-25-195535_png.rf.90255b353c342d06dfabe9f260b4cec2.txt  \n",
            "  inflating: test/labels/neutral_jpg.rf.bcfc4a425f0de32e13c5e42f4d473572.txt  \n",
            " extracting: test/labels/saaddd7dee_png.rf.56610db0334ac3d1390da196ac78ec62.txt  \n",
            "   creating: train/\n",
            "   creating: train/images/\n",
            " extracting: train/images/-1-_jpg.rf.1c96123f8e1aff73f81b1c675f456f11.jpg  \n",
            " extracting: train/images/-1-_jpg.rf.659c3e0336e236f9be27e40c0f08c8e7.jpg  \n",
            " extracting: train/images/-1-_jpg.rf.6b0760789f4d14e71abfcc4ab2041ed1.jpg  \n",
            " extracting: train/images/-10-_jpg.rf.04a4fbd49e2bd0d244f766fdb5e04d66.jpg  \n",
            " extracting: train/images/-10-_jpg.rf.04c0af789a6dfdb14631edf3e6b3b987.jpg  \n",
            " extracting: train/images/-10-_jpg.rf.545ab0d810c0d5ec79f846778aac278e.jpg  \n",
            " extracting: train/images/-12-_jpg.rf.332493baa72baf52f0d3176a7e5f4758.jpg  \n",
            " extracting: train/images/-12-_jpg.rf.4def8cec63874a26fec90bb5c98ab076.jpg  \n",
            " extracting: train/images/-12-_jpg.rf.5d327e20344e599b3df1dbf97f947ef4.jpg  \n",
            " extracting: train/images/-13-_jpg.rf.0a853c646ae559cb9ce25368eadd1c35.jpg  \n",
            " extracting: train/images/-13-_jpg.rf.835cbfc9b38cf1598a49ecf552e39a79.jpg  \n",
            " extracting: train/images/-13-_jpg.rf.c40b0d264ff2ebbdfb81200f0be41612.jpg  \n",
            " extracting: train/images/-14-_jpg.rf.1eeccb99f389ff4dc2f5de1e1454c4b2.jpg  \n",
            " extracting: train/images/-14-_jpg.rf.36b767de466d663639958141dcb926a6.jpg  \n",
            " extracting: train/images/-14-_jpg.rf.799414bbc4ab22db0e6411fd56d6f440.jpg  \n",
            " extracting: train/images/-15-_jpg.rf.9318a583b56808b39727b3980d4fad58.jpg  \n",
            " extracting: train/images/-15-_jpg.rf.b2354cd6a8c79258ec2d54ec93d1812f.jpg  \n",
            " extracting: train/images/-15-_jpg.rf.f9a9a5910061d88bd03d26c6d400fe29.jpg  \n",
            " extracting: train/images/-17-_jpg.rf.60fdbc2638f503c8aa82fafa6c0652a5.jpg  \n",
            " extracting: train/images/-17-_jpg.rf.9cf2e1ca7afd67637e24dc3da9194de9.jpg  \n",
            " extracting: train/images/-17-_jpg.rf.a1826ca7c9a61ebc7f5b67eb8a530224.jpg  \n",
            " extracting: train/images/-18-_jpg.rf.0faa6b7e772aed35199f2a84f64dba6d.jpg  \n",
            " extracting: train/images/-18-_jpg.rf.696e9e451ff7a6e4d29a6e52fb1b500f.jpg  \n",
            " extracting: train/images/-18-_jpg.rf.9a04627e848da368d09d04d451f33c80.jpg  \n",
            " extracting: train/images/-2-_jpg.rf.08db46342557837d18430717524d9765.jpg  \n",
            " extracting: train/images/-2-_jpg.rf.9fbd9bc07edadc0dc769202d38364ed2.jpg  \n",
            " extracting: train/images/-2-_jpg.rf.d253c4a573b486bada53eb86ea923b00.jpg  \n",
            " extracting: train/images/-20-_jpg.rf.4a2368faa3f57b2559df4a0e049b6bc4.jpg  \n",
            " extracting: train/images/-20-_jpg.rf.b1195af80fbaec1e94be175cf669a5bc.jpg  \n",
            " extracting: train/images/-20-_jpg.rf.e80981fe00c6a7a0f6727091ee6db860.jpg  \n",
            " extracting: train/images/-21-_jpg.rf.a9cf78d366420d62a1589d71b8a60691.jpg  \n",
            " extracting: train/images/-21-_jpg.rf.c29d314bd2f5c9c664afb527de6aa303.jpg  \n",
            " extracting: train/images/-21-_jpg.rf.c6018b927eb68dc3409ad5b6ea92081a.jpg  \n",
            " extracting: train/images/-22-_jpg.rf.2a64aad462879c295642090b03fe95b7.jpg  \n",
            " extracting: train/images/-22-_jpg.rf.925fce26df5bc8a08bdf9640f8017cf4.jpg  \n",
            " extracting: train/images/-22-_jpg.rf.ece862144b64abc8b26847e1a2e8adb7.jpg  \n",
            " extracting: train/images/-23-_jpg.rf.246b07a811e48bce060e8f554fc97656.jpg  \n",
            " extracting: train/images/-23-_jpg.rf.c33484bc92d2d3d2884e4a428ceaff4c.jpg  \n",
            " extracting: train/images/-23-_jpg.rf.e3693c93b0eb3351ab2c07e52c185a64.jpg  \n",
            " extracting: train/images/-25-_jpg.rf.3576c944d102e51449ff17cd416911f3.jpg  \n",
            " extracting: train/images/-25-_jpg.rf.4035d24ceaa97ea33023379c3f46d584.jpg  \n",
            " extracting: train/images/-25-_jpg.rf.44aa8e09e72ec4aaeed8ad2c586a9824.jpg  \n",
            " extracting: train/images/-27-_jpg.rf.338a87161ecc9f0680093db03436ebf9.jpg  \n",
            " extracting: train/images/-27-_jpg.rf.49c7bdf08c0df022aaee413447879526.jpg  \n",
            " extracting: train/images/-27-_jpg.rf.df0a33fcb2ddf34398f5e3427297aa64.jpg  \n",
            " extracting: train/images/-28-_jpg.rf.3b298367a9ea480615548b21f0f3f50c.jpg  \n",
            " extracting: train/images/-28-_jpg.rf.5aa4f87dd49e78bd79733bfe3c7d9de3.jpg  \n",
            " extracting: train/images/-28-_jpg.rf.a5dc7e360ddc34d2b0597a61e8d41263.jpg  \n",
            " extracting: train/images/-29-_jpg.rf.74b771e2147eafc13e60c192e6733670.jpg  \n",
            " extracting: train/images/-29-_jpg.rf.a25de97ba2781a8df8115a2720d47d8b.jpg  \n",
            " extracting: train/images/-29-_jpg.rf.ab10b6ea9a078ab45802e3eb4ec77493.jpg  \n",
            " extracting: train/images/-3-_jpg.rf.4dfd542a8f09df36287f731a7a42ad9b.jpg  \n",
            " extracting: train/images/-3-_jpg.rf.be234f3a95fc74bc3be39a4cd26f4f1c.jpg  \n",
            " extracting: train/images/-3-_jpg.rf.dfeab8f8a118eb753a49e38cc9fe88c0.jpg  \n",
            " extracting: train/images/-30-_jpg.rf.2bf2cfa79674f45e12b06b9377457ea7.jpg  \n",
            " extracting: train/images/-30-_jpg.rf.c2013a8a81eef36f0bb536c850ba23e1.jpg  \n",
            " extracting: train/images/-30-_jpg.rf.d4e2e7a198dc99781484f3536f4dbf86.jpg  \n",
            " extracting: train/images/-36-_jpg.rf.446518ca60efa527d8a31076b5cf7029.jpg  \n",
            " extracting: train/images/-36-_jpg.rf.950df1a4ea14833a0b5f0f870507ad54.jpg  \n",
            " extracting: train/images/-36-_jpg.rf.9f9a80e808ffaf7f434a170fc4aaa983.jpg  \n",
            " extracting: train/images/-39-_jpg.rf.2e7acd99467c8f10eeeea6135227b788.jpg  \n",
            " extracting: train/images/-39-_jpg.rf.d30e4e97e2dbb120d0a4d906606cfa23.jpg  \n",
            " extracting: train/images/-39-_jpg.rf.f6e35b2af10bc8b5051090f4a050e0b5.jpg  \n",
            " extracting: train/images/-4-_jpg.rf.0e3f1813f3f71e408d68823981195b22.jpg  \n",
            " extracting: train/images/-4-_jpg.rf.2f540c855f5657ffc2b53758a2c4407e.jpg  \n",
            " extracting: train/images/-4-_jpg.rf.4d5c632229d62699ad63f5cc0af83a26.jpg  \n",
            " extracting: train/images/-40-_jpg.rf.5d584ba5ff87800c71d08ae8ec4ca4d3.jpg  \n",
            " extracting: train/images/-40-_jpg.rf.a396ba53cb847474198a1d6f44058d3d.jpg  \n",
            " extracting: train/images/-40-_jpg.rf.bc0fd738fe4aaac5dac05c24325751d0.jpg  \n",
            " extracting: train/images/-41-_jpg.rf.c4059a58614203ad92a6e1d46f45fce5.jpg  \n",
            " extracting: train/images/-41-_jpg.rf.f3e314d51b8e3b185b04183f9a80fab3.jpg  \n",
            " extracting: train/images/-41-_jpg.rf.fc5b1379637f0c6ca886d6370fbf18d7.jpg  \n",
            " extracting: train/images/-42-_jpg.rf.63aa87ced0b3432e761c6303e778eb1a.jpg  \n",
            " extracting: train/images/-42-_jpg.rf.9784a159f816e321e893d627413dffc9.jpg  \n",
            " extracting: train/images/-42-_jpg.rf.d5bff8938d8942bf7097f5ecf7e32a1f.jpg  \n",
            " extracting: train/images/-44-_jpg.rf.3b9a2f530a76a8855247e0c3105417fe.jpg  \n",
            " extracting: train/images/-44-_jpg.rf.6a5b303b31115fe6075496a85024ce8b.jpg  \n",
            " extracting: train/images/-44-_jpg.rf.8b1265ed645d0530099a1172bc22145f.jpg  \n",
            " extracting: train/images/-45-_jpg.rf.236ebc50a7491b0cab1fb0257f2c9492.jpg  \n",
            " extracting: train/images/-45-_jpg.rf.c369ee3064622e6d1ee64a647a06ac73.jpg  \n",
            " extracting: train/images/-45-_jpg.rf.dc371d9ad21a96b3b373f86f7025edc1.jpg  \n",
            " extracting: train/images/-46-_jpg.rf.3ad82393b07f6bb797d9f7bdde0726dd.jpg  \n",
            " extracting: train/images/-46-_jpg.rf.96748bb2a5c3c6203ed30771acb0a47e.jpg  \n",
            " extracting: train/images/-46-_jpg.rf.c53d4f62fb21024019d65ca4c4bebb96.jpg  \n",
            " extracting: train/images/-47-_jpg.rf.bd4dedacb1087f310151952af880a136.jpg  \n",
            " extracting: train/images/-47-_jpg.rf.d2163aad037a2a1f4dbc5c0edbd08789.jpg  \n",
            " extracting: train/images/-47-_jpg.rf.fbd305547e3f04642e64e098e98d7f9a.jpg  \n",
            " extracting: train/images/-48-_jpg.rf.56ea9e6dd3cb3c7f3e071edc250073cd.jpg  \n",
            " extracting: train/images/-48-_jpg.rf.a291dcbc817824c276fd8621fdcc3a52.jpg  \n",
            " extracting: train/images/-48-_jpg.rf.eda5c0502bb5f8252ba4c6ecbe99a20d.jpg  \n",
            " extracting: train/images/-5-_jpg.rf.2a4a3bf2bbd636e5fe11c3ecc727dcda.jpg  \n",
            " extracting: train/images/-5-_jpg.rf.8d1633843c699881abdd9dfb967d2415.jpg  \n",
            " extracting: train/images/-5-_jpg.rf.de23dfb028486bcd2c83258d01585d36.jpg  \n",
            " extracting: train/images/-55-_jpg.rf.3287fa106334510329825e89d5157bc4.jpg  \n",
            " extracting: train/images/-55-_jpg.rf.65af5b3b19eb8541642f5f0c724d83c1.jpg  \n",
            " extracting: train/images/-55-_jpg.rf.83bf55581977c3d9b3b271ec867b4915.jpg  \n",
            " extracting: train/images/-56-_jpg.rf.7143962aa9d6f7aaf92856583632bf1a.jpg  \n",
            " extracting: train/images/-56-_jpg.rf.78e9098dd1403cda0df6902294133ca3.jpg  \n",
            " extracting: train/images/-56-_jpg.rf.efa495a28566873f3e326117b326032e.jpg  \n",
            " extracting: train/images/-57-_jpg.rf.8d78c06c3e506481c4264931bed6237f.jpg  \n",
            " extracting: train/images/-57-_jpg.rf.8f84eb84537a2c786ececcb1abe75776.jpg  \n",
            " extracting: train/images/-57-_jpg.rf.c6a35ed912501d950ff3691e968eb3b7.jpg  \n",
            " extracting: train/images/-58-_jpg.rf.825ff2781c9157da4e3616a13629d170.jpg  \n",
            " extracting: train/images/-58-_jpg.rf.cfa5f60acfa6e85298884e5efc970256.jpg  \n",
            " extracting: train/images/-58-_jpg.rf.fdfe47dc63a4e2023b94d7dc25ded9f7.jpg  \n",
            " extracting: train/images/-59-_jpg.rf.001fef3fbcf22066405e7553997f3b01.jpg  \n",
            " extracting: train/images/-59-_jpg.rf.38692dd62f5e36bcb629982d9be52738.jpg  \n",
            " extracting: train/images/-59-_jpg.rf.64b809e2dd5551100054bb466574b5c1.jpg  \n",
            " extracting: train/images/-6-_jpg.rf.9622b2a94b002438834116ce2e667c7f.jpg  \n",
            " extracting: train/images/-6-_jpg.rf.bbff71701c961dcf87ada6ed3b801840.jpg  \n",
            " extracting: train/images/-6-_jpg.rf.e33f8d4b426067b2b0bda889ff14f4b7.jpg  \n",
            " extracting: train/images/-60-_jpg.rf.3155c7a5625d257d0db65fa36bf1b5f7.jpg  \n",
            " extracting: train/images/-60-_jpg.rf.4da58fb8fa8acf92d095f819fdfe6bbb.jpg  \n",
            " extracting: train/images/-60-_jpg.rf.e4eb2036ebef99fe7e7cc11b06ceb39b.jpg  \n",
            " extracting: train/images/-7-_jpg.rf.3ffc66cfb2c1f88df764eb63677d6221.jpg  \n",
            " extracting: train/images/-7-_jpg.rf.87c5cfdb0a2b14c8144ddc5f2be63a8c.jpg  \n",
            " extracting: train/images/-7-_jpg.rf.9f290143df5d4b398d11b2298e4176d7.jpg  \n",
            " extracting: train/images/-8-_jpg.rf.33f6019c2e864da48d0cf531c9acf67d.jpg  \n",
            " extracting: train/images/-8-_jpg.rf.a8a87afebe586a16b9d32c1727ed704e.jpg  \n",
            " extracting: train/images/-8-_jpg.rf.c01eb1f0c6a0211a615874c4d917f134.jpg  \n",
            " extracting: train/images/-_jpg.rf.4270c92b20f669a314afd939d575ecd2.jpg  \n",
            " extracting: train/images/-_jpg.rf.79a434af845a3f4d0279efa415d43860.jpg  \n",
            " extracting: train/images/-_jpg.rf.ca229ee91236e1596b7e6ddb0d38525a.jpg  \n",
            " extracting: train/images/Screenshot-2024-05-25-195039_png.rf.73dc9f8c7421fe30dee7af580ea08aad.jpg  \n",
            " extracting: train/images/Screenshot-2024-05-25-195039_png.rf.a4f811018102085627784e5bb980eda3.jpg  \n",
            " extracting: train/images/Screenshot-2024-05-25-195039_png.rf.aad8ecaaa80cbc51a0fb8aa9167778ba.jpg  \n",
            " extracting: train/images/Screenshot-2024-05-25-195100_png.rf.65a885e5fb2352bde2e334ad2560b6ec.jpg  \n",
            " extracting: train/images/Screenshot-2024-05-25-195100_png.rf.cb83443ea58253a346ff10bbed649d40.jpg  \n",
            " extracting: train/images/Screenshot-2024-05-25-195100_png.rf.e33d3d654df46504450dc9a3bbb66d56.jpg  \n",
            " extracting: train/images/Screenshot-2024-05-25-195134_png.rf.9cdf2aea4f266781e3abc72c1d6c20eb.jpg  \n",
            " extracting: train/images/Screenshot-2024-05-25-195134_png.rf.b63846ee9767556c9b052e13c642e532.jpg  \n",
            " extracting: train/images/Screenshot-2024-05-25-195134_png.rf.cdd118c93bcc07da5bbfaad1d3830146.jpg  \n",
            " extracting: train/images/Screenshot-2024-05-25-195231_png.rf.11254c9ef0b1055e361f580be8b6aa1c.jpg  \n",
            " extracting: train/images/Screenshot-2024-05-25-195231_png.rf.4021a33c71afc405c97b892927ca2877.jpg  \n",
            " extracting: train/images/Screenshot-2024-05-25-195231_png.rf.a4af7663d93b251576c8300e9a72852e.jpg  \n",
            " extracting: train/images/Screenshot-2024-05-25-195405_png.rf.33c30ec74d394cde584c8d64feeead69.jpg  \n",
            " extracting: train/images/Screenshot-2024-05-25-195405_png.rf.47d7962f20838b3f98a5eeb27c3312c7.jpg  \n",
            " extracting: train/images/Screenshot-2024-05-25-195405_png.rf.73eaea1c307356c561271ee7711fe588.jpg  \n",
            " extracting: train/images/Screenshot-2024-05-25-195440_png.rf.554deb9452898a85c42930052616a970.jpg  \n",
            " extracting: train/images/Screenshot-2024-05-25-195440_png.rf.82912e2023855bb39fbc277c7eac16b2.jpg  \n",
            " extracting: train/images/Screenshot-2024-05-25-195440_png.rf.b69f73d49121a605d9bad8a530330755.jpg  \n",
            " extracting: train/images/Screenshot-2024-05-25-195511_png.rf.10d8a4cf79083fdde8f074e8e9e02e5c.jpg  \n",
            " extracting: train/images/Screenshot-2024-05-25-195511_png.rf.88c9b260810ecdb9deeea6ed121afda5.jpg  \n",
            " extracting: train/images/Screenshot-2024-05-25-195511_png.rf.b0f549db00d61321e03032f158e1d8e4.jpg  \n",
            " extracting: train/images/Screenshot-2024-05-25-195718_png.rf.36666159d1e082877636d04125be2091.jpg  \n",
            " extracting: train/images/Screenshot-2024-05-25-195718_png.rf.8065191da75e89f660841b57df1fe3cc.jpg  \n",
            " extracting: train/images/Screenshot-2024-05-25-195718_png.rf.e80cdf1f451fcaded9c3e48ddcc55570.jpg  \n",
            " extracting: train/images/Screenshot-2024-05-25-195935_png.rf.6e941a8d0a22e46a55870d717608dd15.jpg  \n",
            " extracting: train/images/Screenshot-2024-05-25-195935_png.rf.817bf2f2989b416254d645a559894a4f.jpg  \n",
            " extracting: train/images/Screenshot-2024-05-25-195935_png.rf.aa0a85050c50881bc2d4537db18d97e5.jpg  \n",
            " extracting: train/images/Woman-crying_jpg.rf.623da1f0c4386de30f400eb63ca74770.jpg  \n",
            " extracting: train/images/Woman-crying_jpg.rf.62925ffc530debb27da195edee2fd06b.jpg  \n",
            " extracting: train/images/Woman-crying_jpg.rf.c3d48fabd01b5b69ff2c3be5b3c7c6ad.jpg  \n",
            " extracting: train/images/sad_png.rf.19e8078e9983a171a8627a59c7ad4f5b.jpg  \n",
            " extracting: train/images/sad_png.rf.739da3c6e88076d38c5ddacd72cce2fb.jpg  \n",
            " extracting: train/images/sad_png.rf.cae70f3b2becad434af5afec4c801d2f.jpg  \n",
            " extracting: train/images/smile_jpg.rf.237e4d5fb9467fc926463f0a0fd89558.jpg  \n",
            " extracting: train/images/smile_jpg.rf.29a20c70ed3d22035814c08c2e8c2bbe.jpg  \n",
            " extracting: train/images/smile_jpg.rf.f540a70d673c9a84e843ab044d0974e1.jpg  \n",
            "   creating: train/labels/\n",
            "  inflating: train/labels/-1-_jpg.rf.1c96123f8e1aff73f81b1c675f456f11.txt  \n",
            "  inflating: train/labels/-1-_jpg.rf.659c3e0336e236f9be27e40c0f08c8e7.txt  \n",
            "  inflating: train/labels/-1-_jpg.rf.6b0760789f4d14e71abfcc4ab2041ed1.txt  \n",
            "  inflating: train/labels/-10-_jpg.rf.04a4fbd49e2bd0d244f766fdb5e04d66.txt  \n",
            " extracting: train/labels/-10-_jpg.rf.04c0af789a6dfdb14631edf3e6b3b987.txt  \n",
            "  inflating: train/labels/-10-_jpg.rf.545ab0d810c0d5ec79f846778aac278e.txt  \n",
            "  inflating: train/labels/-12-_jpg.rf.332493baa72baf52f0d3176a7e5f4758.txt  \n",
            "  inflating: train/labels/-12-_jpg.rf.4def8cec63874a26fec90bb5c98ab076.txt  \n",
            "  inflating: train/labels/-12-_jpg.rf.5d327e20344e599b3df1dbf97f947ef4.txt  \n",
            " extracting: train/labels/-13-_jpg.rf.0a853c646ae559cb9ce25368eadd1c35.txt  \n",
            "  inflating: train/labels/-13-_jpg.rf.835cbfc9b38cf1598a49ecf552e39a79.txt  \n",
            "  inflating: train/labels/-13-_jpg.rf.c40b0d264ff2ebbdfb81200f0be41612.txt  \n",
            "  inflating: train/labels/-14-_jpg.rf.1eeccb99f389ff4dc2f5de1e1454c4b2.txt  \n",
            "  inflating: train/labels/-14-_jpg.rf.36b767de466d663639958141dcb926a6.txt  \n",
            "  inflating: train/labels/-14-_jpg.rf.799414bbc4ab22db0e6411fd56d6f440.txt  \n",
            "  inflating: train/labels/-15-_jpg.rf.9318a583b56808b39727b3980d4fad58.txt  \n",
            "  inflating: train/labels/-15-_jpg.rf.b2354cd6a8c79258ec2d54ec93d1812f.txt  \n",
            "  inflating: train/labels/-15-_jpg.rf.f9a9a5910061d88bd03d26c6d400fe29.txt  \n",
            "  inflating: train/labels/-17-_jpg.rf.60fdbc2638f503c8aa82fafa6c0652a5.txt  \n",
            " extracting: train/labels/-17-_jpg.rf.9cf2e1ca7afd67637e24dc3da9194de9.txt  \n",
            "  inflating: train/labels/-17-_jpg.rf.a1826ca7c9a61ebc7f5b67eb8a530224.txt  \n",
            "  inflating: train/labels/-18-_jpg.rf.0faa6b7e772aed35199f2a84f64dba6d.txt  \n",
            "  inflating: train/labels/-18-_jpg.rf.696e9e451ff7a6e4d29a6e52fb1b500f.txt  \n",
            "  inflating: train/labels/-18-_jpg.rf.9a04627e848da368d09d04d451f33c80.txt  \n",
            "  inflating: train/labels/-2-_jpg.rf.08db46342557837d18430717524d9765.txt  \n",
            " extracting: train/labels/-2-_jpg.rf.9fbd9bc07edadc0dc769202d38364ed2.txt  \n",
            "  inflating: train/labels/-2-_jpg.rf.d253c4a573b486bada53eb86ea923b00.txt  \n",
            "  inflating: train/labels/-20-_jpg.rf.4a2368faa3f57b2559df4a0e049b6bc4.txt  \n",
            "  inflating: train/labels/-20-_jpg.rf.b1195af80fbaec1e94be175cf669a5bc.txt  \n",
            "  inflating: train/labels/-20-_jpg.rf.e80981fe00c6a7a0f6727091ee6db860.txt  \n",
            "  inflating: train/labels/-21-_jpg.rf.a9cf78d366420d62a1589d71b8a60691.txt  \n",
            "  inflating: train/labels/-21-_jpg.rf.c29d314bd2f5c9c664afb527de6aa303.txt  \n",
            " extracting: train/labels/-21-_jpg.rf.c6018b927eb68dc3409ad5b6ea92081a.txt  \n",
            "  inflating: train/labels/-22-_jpg.rf.2a64aad462879c295642090b03fe95b7.txt  \n",
            " extracting: train/labels/-22-_jpg.rf.925fce26df5bc8a08bdf9640f8017cf4.txt  \n",
            " extracting: train/labels/-22-_jpg.rf.ece862144b64abc8b26847e1a2e8adb7.txt  \n",
            "  inflating: train/labels/-23-_jpg.rf.246b07a811e48bce060e8f554fc97656.txt  \n",
            " extracting: train/labels/-23-_jpg.rf.c33484bc92d2d3d2884e4a428ceaff4c.txt  \n",
            "  inflating: train/labels/-23-_jpg.rf.e3693c93b0eb3351ab2c07e52c185a64.txt  \n",
            "  inflating: train/labels/-25-_jpg.rf.3576c944d102e51449ff17cd416911f3.txt  \n",
            "  inflating: train/labels/-25-_jpg.rf.4035d24ceaa97ea33023379c3f46d584.txt  \n",
            "  inflating: train/labels/-25-_jpg.rf.44aa8e09e72ec4aaeed8ad2c586a9824.txt  \n",
            "  inflating: train/labels/-27-_jpg.rf.338a87161ecc9f0680093db03436ebf9.txt  \n",
            "  inflating: train/labels/-27-_jpg.rf.49c7bdf08c0df022aaee413447879526.txt  \n",
            "  inflating: train/labels/-27-_jpg.rf.df0a33fcb2ddf34398f5e3427297aa64.txt  \n",
            "  inflating: train/labels/-28-_jpg.rf.3b298367a9ea480615548b21f0f3f50c.txt  \n",
            " extracting: train/labels/-28-_jpg.rf.5aa4f87dd49e78bd79733bfe3c7d9de3.txt  \n",
            "  inflating: train/labels/-28-_jpg.rf.a5dc7e360ddc34d2b0597a61e8d41263.txt  \n",
            "  inflating: train/labels/-29-_jpg.rf.74b771e2147eafc13e60c192e6733670.txt  \n",
            "  inflating: train/labels/-29-_jpg.rf.a25de97ba2781a8df8115a2720d47d8b.txt  \n",
            "  inflating: train/labels/-29-_jpg.rf.ab10b6ea9a078ab45802e3eb4ec77493.txt  \n",
            "  inflating: train/labels/-3-_jpg.rf.4dfd542a8f09df36287f731a7a42ad9b.txt  \n",
            "  inflating: train/labels/-3-_jpg.rf.be234f3a95fc74bc3be39a4cd26f4f1c.txt  \n",
            "  inflating: train/labels/-3-_jpg.rf.dfeab8f8a118eb753a49e38cc9fe88c0.txt  \n",
            "  inflating: train/labels/-30-_jpg.rf.2bf2cfa79674f45e12b06b9377457ea7.txt  \n",
            " extracting: train/labels/-30-_jpg.rf.c2013a8a81eef36f0bb536c850ba23e1.txt  \n",
            "  inflating: train/labels/-30-_jpg.rf.d4e2e7a198dc99781484f3536f4dbf86.txt  \n",
            "  inflating: train/labels/-36-_jpg.rf.446518ca60efa527d8a31076b5cf7029.txt  \n",
            "  inflating: train/labels/-36-_jpg.rf.950df1a4ea14833a0b5f0f870507ad54.txt  \n",
            "  inflating: train/labels/-36-_jpg.rf.9f9a80e808ffaf7f434a170fc4aaa983.txt  \n",
            "  inflating: train/labels/-39-_jpg.rf.2e7acd99467c8f10eeeea6135227b788.txt  \n",
            "  inflating: train/labels/-39-_jpg.rf.d30e4e97e2dbb120d0a4d906606cfa23.txt  \n",
            "  inflating: train/labels/-39-_jpg.rf.f6e35b2af10bc8b5051090f4a050e0b5.txt  \n",
            "  inflating: train/labels/-4-_jpg.rf.0e3f1813f3f71e408d68823981195b22.txt  \n",
            "  inflating: train/labels/-4-_jpg.rf.2f540c855f5657ffc2b53758a2c4407e.txt  \n",
            "  inflating: train/labels/-4-_jpg.rf.4d5c632229d62699ad63f5cc0af83a26.txt  \n",
            "  inflating: train/labels/-40-_jpg.rf.5d584ba5ff87800c71d08ae8ec4ca4d3.txt  \n",
            "  inflating: train/labels/-40-_jpg.rf.a396ba53cb847474198a1d6f44058d3d.txt  \n",
            " extracting: train/labels/-40-_jpg.rf.bc0fd738fe4aaac5dac05c24325751d0.txt  \n",
            "  inflating: train/labels/-41-_jpg.rf.c4059a58614203ad92a6e1d46f45fce5.txt  \n",
            "  inflating: train/labels/-41-_jpg.rf.f3e314d51b8e3b185b04183f9a80fab3.txt  \n",
            "  inflating: train/labels/-41-_jpg.rf.fc5b1379637f0c6ca886d6370fbf18d7.txt  \n",
            "  inflating: train/labels/-42-_jpg.rf.63aa87ced0b3432e761c6303e778eb1a.txt  \n",
            "  inflating: train/labels/-42-_jpg.rf.9784a159f816e321e893d627413dffc9.txt  \n",
            "  inflating: train/labels/-42-_jpg.rf.d5bff8938d8942bf7097f5ecf7e32a1f.txt  \n",
            "  inflating: train/labels/-44-_jpg.rf.3b9a2f530a76a8855247e0c3105417fe.txt  \n",
            " extracting: train/labels/-44-_jpg.rf.6a5b303b31115fe6075496a85024ce8b.txt  \n",
            " extracting: train/labels/-44-_jpg.rf.8b1265ed645d0530099a1172bc22145f.txt  \n",
            "  inflating: train/labels/-45-_jpg.rf.236ebc50a7491b0cab1fb0257f2c9492.txt  \n",
            "  inflating: train/labels/-45-_jpg.rf.c369ee3064622e6d1ee64a647a06ac73.txt  \n",
            "  inflating: train/labels/-45-_jpg.rf.dc371d9ad21a96b3b373f86f7025edc1.txt  \n",
            "  inflating: train/labels/-46-_jpg.rf.3ad82393b07f6bb797d9f7bdde0726dd.txt  \n",
            "  inflating: train/labels/-46-_jpg.rf.96748bb2a5c3c6203ed30771acb0a47e.txt  \n",
            "  inflating: train/labels/-46-_jpg.rf.c53d4f62fb21024019d65ca4c4bebb96.txt  \n",
            "  inflating: train/labels/-47-_jpg.rf.bd4dedacb1087f310151952af880a136.txt  \n",
            "  inflating: train/labels/-47-_jpg.rf.d2163aad037a2a1f4dbc5c0edbd08789.txt  \n",
            " extracting: train/labels/-47-_jpg.rf.fbd305547e3f04642e64e098e98d7f9a.txt  \n",
            "  inflating: train/labels/-48-_jpg.rf.56ea9e6dd3cb3c7f3e071edc250073cd.txt  \n",
            "  inflating: train/labels/-48-_jpg.rf.a291dcbc817824c276fd8621fdcc3a52.txt  \n",
            "  inflating: train/labels/-48-_jpg.rf.eda5c0502bb5f8252ba4c6ecbe99a20d.txt  \n",
            "  inflating: train/labels/-5-_jpg.rf.2a4a3bf2bbd636e5fe11c3ecc727dcda.txt  \n",
            "  inflating: train/labels/-5-_jpg.rf.8d1633843c699881abdd9dfb967d2415.txt  \n",
            "  inflating: train/labels/-5-_jpg.rf.de23dfb028486bcd2c83258d01585d36.txt  \n",
            "  inflating: train/labels/-55-_jpg.rf.3287fa106334510329825e89d5157bc4.txt  \n",
            " extracting: train/labels/-55-_jpg.rf.65af5b3b19eb8541642f5f0c724d83c1.txt  \n",
            "  inflating: train/labels/-55-_jpg.rf.83bf55581977c3d9b3b271ec867b4915.txt  \n",
            "  inflating: train/labels/-56-_jpg.rf.7143962aa9d6f7aaf92856583632bf1a.txt  \n",
            "  inflating: train/labels/-56-_jpg.rf.78e9098dd1403cda0df6902294133ca3.txt  \n",
            "  inflating: train/labels/-56-_jpg.rf.efa495a28566873f3e326117b326032e.txt  \n",
            "  inflating: train/labels/-57-_jpg.rf.8d78c06c3e506481c4264931bed6237f.txt  \n",
            " extracting: train/labels/-57-_jpg.rf.8f84eb84537a2c786ececcb1abe75776.txt  \n",
            "  inflating: train/labels/-57-_jpg.rf.c6a35ed912501d950ff3691e968eb3b7.txt  \n",
            " extracting: train/labels/-58-_jpg.rf.825ff2781c9157da4e3616a13629d170.txt  \n",
            " extracting: train/labels/-58-_jpg.rf.cfa5f60acfa6e85298884e5efc970256.txt  \n",
            "  inflating: train/labels/-58-_jpg.rf.fdfe47dc63a4e2023b94d7dc25ded9f7.txt  \n",
            "  inflating: train/labels/-59-_jpg.rf.001fef3fbcf22066405e7553997f3b01.txt  \n",
            "  inflating: train/labels/-59-_jpg.rf.38692dd62f5e36bcb629982d9be52738.txt  \n",
            " extracting: train/labels/-59-_jpg.rf.64b809e2dd5551100054bb466574b5c1.txt  \n",
            "  inflating: train/labels/-6-_jpg.rf.9622b2a94b002438834116ce2e667c7f.txt  \n",
            "  inflating: train/labels/-6-_jpg.rf.bbff71701c961dcf87ada6ed3b801840.txt  \n",
            "  inflating: train/labels/-6-_jpg.rf.e33f8d4b426067b2b0bda889ff14f4b7.txt  \n",
            "  inflating: train/labels/-60-_jpg.rf.3155c7a5625d257d0db65fa36bf1b5f7.txt  \n",
            " extracting: train/labels/-60-_jpg.rf.4da58fb8fa8acf92d095f819fdfe6bbb.txt  \n",
            "  inflating: train/labels/-60-_jpg.rf.e4eb2036ebef99fe7e7cc11b06ceb39b.txt  \n",
            "  inflating: train/labels/-7-_jpg.rf.3ffc66cfb2c1f88df764eb63677d6221.txt  \n",
            "  inflating: train/labels/-7-_jpg.rf.87c5cfdb0a2b14c8144ddc5f2be63a8c.txt  \n",
            "  inflating: train/labels/-7-_jpg.rf.9f290143df5d4b398d11b2298e4176d7.txt  \n",
            "  inflating: train/labels/-8-_jpg.rf.33f6019c2e864da48d0cf531c9acf67d.txt  \n",
            " extracting: train/labels/-8-_jpg.rf.a8a87afebe586a16b9d32c1727ed704e.txt  \n",
            "  inflating: train/labels/-8-_jpg.rf.c01eb1f0c6a0211a615874c4d917f134.txt  \n",
            "  inflating: train/labels/-_jpg.rf.4270c92b20f669a314afd939d575ecd2.txt  \n",
            "  inflating: train/labels/-_jpg.rf.79a434af845a3f4d0279efa415d43860.txt  \n",
            "  inflating: train/labels/-_jpg.rf.ca229ee91236e1596b7e6ddb0d38525a.txt  \n",
            "  inflating: train/labels/Screenshot-2024-05-25-195039_png.rf.73dc9f8c7421fe30dee7af580ea08aad.txt  \n",
            "  inflating: train/labels/Screenshot-2024-05-25-195039_png.rf.a4f811018102085627784e5bb980eda3.txt  \n",
            "  inflating: train/labels/Screenshot-2024-05-25-195039_png.rf.aad8ecaaa80cbc51a0fb8aa9167778ba.txt  \n",
            "  inflating: train/labels/Screenshot-2024-05-25-195100_png.rf.65a885e5fb2352bde2e334ad2560b6ec.txt  \n",
            "  inflating: train/labels/Screenshot-2024-05-25-195100_png.rf.cb83443ea58253a346ff10bbed649d40.txt  \n",
            "  inflating: train/labels/Screenshot-2024-05-25-195100_png.rf.e33d3d654df46504450dc9a3bbb66d56.txt  \n",
            "  inflating: train/labels/Screenshot-2024-05-25-195134_png.rf.9cdf2aea4f266781e3abc72c1d6c20eb.txt  \n",
            "  inflating: train/labels/Screenshot-2024-05-25-195134_png.rf.b63846ee9767556c9b052e13c642e532.txt  \n",
            " extracting: train/labels/Screenshot-2024-05-25-195134_png.rf.cdd118c93bcc07da5bbfaad1d3830146.txt  \n",
            "  inflating: train/labels/Screenshot-2024-05-25-195231_png.rf.11254c9ef0b1055e361f580be8b6aa1c.txt  \n",
            " extracting: train/labels/Screenshot-2024-05-25-195231_png.rf.4021a33c71afc405c97b892927ca2877.txt  \n",
            "  inflating: train/labels/Screenshot-2024-05-25-195231_png.rf.a4af7663d93b251576c8300e9a72852e.txt  \n",
            "  inflating: train/labels/Screenshot-2024-05-25-195405_png.rf.33c30ec74d394cde584c8d64feeead69.txt  \n",
            "  inflating: train/labels/Screenshot-2024-05-25-195405_png.rf.47d7962f20838b3f98a5eeb27c3312c7.txt  \n",
            "  inflating: train/labels/Screenshot-2024-05-25-195405_png.rf.73eaea1c307356c561271ee7711fe588.txt  \n",
            " extracting: train/labels/Screenshot-2024-05-25-195440_png.rf.554deb9452898a85c42930052616a970.txt  \n",
            "  inflating: train/labels/Screenshot-2024-05-25-195440_png.rf.82912e2023855bb39fbc277c7eac16b2.txt  \n",
            " extracting: train/labels/Screenshot-2024-05-25-195440_png.rf.b69f73d49121a605d9bad8a530330755.txt  \n",
            "  inflating: train/labels/Screenshot-2024-05-25-195511_png.rf.10d8a4cf79083fdde8f074e8e9e02e5c.txt  \n",
            "  inflating: train/labels/Screenshot-2024-05-25-195511_png.rf.88c9b260810ecdb9deeea6ed121afda5.txt  \n",
            "  inflating: train/labels/Screenshot-2024-05-25-195511_png.rf.b0f549db00d61321e03032f158e1d8e4.txt  \n",
            "  inflating: train/labels/Screenshot-2024-05-25-195718_png.rf.36666159d1e082877636d04125be2091.txt  \n",
            "  inflating: train/labels/Screenshot-2024-05-25-195718_png.rf.8065191da75e89f660841b57df1fe3cc.txt  \n",
            "  inflating: train/labels/Screenshot-2024-05-25-195718_png.rf.e80cdf1f451fcaded9c3e48ddcc55570.txt  \n",
            "  inflating: train/labels/Screenshot-2024-05-25-195935_png.rf.6e941a8d0a22e46a55870d717608dd15.txt  \n",
            " extracting: train/labels/Screenshot-2024-05-25-195935_png.rf.817bf2f2989b416254d645a559894a4f.txt  \n",
            "  inflating: train/labels/Screenshot-2024-05-25-195935_png.rf.aa0a85050c50881bc2d4537db18d97e5.txt  \n",
            "  inflating: train/labels/Woman-crying_jpg.rf.623da1f0c4386de30f400eb63ca74770.txt  \n",
            "  inflating: train/labels/Woman-crying_jpg.rf.62925ffc530debb27da195edee2fd06b.txt  \n",
            "  inflating: train/labels/Woman-crying_jpg.rf.c3d48fabd01b5b69ff2c3be5b3c7c6ad.txt  \n",
            "  inflating: train/labels/sad_png.rf.19e8078e9983a171a8627a59c7ad4f5b.txt  \n",
            "  inflating: train/labels/sad_png.rf.739da3c6e88076d38c5ddacd72cce2fb.txt  \n",
            "  inflating: train/labels/sad_png.rf.cae70f3b2becad434af5afec4c801d2f.txt  \n",
            "  inflating: train/labels/smile_jpg.rf.237e4d5fb9467fc926463f0a0fd89558.txt  \n",
            "  inflating: train/labels/smile_jpg.rf.29a20c70ed3d22035814c08c2e8c2bbe.txt  \n",
            "  inflating: train/labels/smile_jpg.rf.f540a70d673c9a84e843ab044d0974e1.txt  \n",
            "   creating: valid/\n",
            "   creating: valid/images/\n",
            " extracting: valid/images/-11-_jpg.rf.e0a3ffaf6cdde78698053300a3df1a34.jpg  \n",
            " extracting: valid/images/-16-_jpg.rf.934a582f8d929a6f941c801b8d1c339d.jpg  \n",
            " extracting: valid/images/-24-_jpg.rf.c7550157eaebc7e925303312639eaf6c.jpg  \n",
            " extracting: valid/images/-31-_jpg.rf.173b258b43f755261096044539ab1381.jpg  \n",
            " extracting: valid/images/-33-_jpg.rf.92c8b0b597564f5d277d89813d1bf851.jpg  \n",
            " extracting: valid/images/-37-_jpg.rf.7bf688704c75921f773bb084c7bac228.jpg  \n",
            " extracting: valid/images/-38-_jpg.rf.995c185b463835a7c2dcaa569147f582.jpg  \n",
            " extracting: valid/images/-49-_jpg.rf.c8d294733d63f184f0a7e4d3982f0f24.jpg  \n",
            " extracting: valid/images/-50-_jpg.rf.6ec879042ca4922e0dd5f7ddb46f957e.jpg  \n",
            " extracting: valid/images/-53-_jpg.rf.1e86f08943feb02aa8cbb3d7c2d8b976.jpg  \n",
            " extracting: valid/images/-54-_jpg.rf.31bb17d6ef669c4292e764e83d839f53.jpg  \n",
            " extracting: valid/images/-5_jpg.rf.319413119a2ceee69e5b82e222317efd.jpg  \n",
            " extracting: valid/images/-9-_jpg.rf.a66fb7f0ee41a7dda8c73d3a708c538b.jpg  \n",
            " extracting: valid/images/Screenshot-2024-05-25-194828_png.rf.027df92c3cd46722c612ca75d15f81ad.jpg  \n",
            " extracting: valid/images/Screenshot-2024-05-25-195020_png.rf.bb91bb722491d91a775df731a8eedc5c.jpg  \n",
            " extracting: valid/images/Screenshot-2024-05-25-195118_png.rf.e38eea43f5b563a9c3ad9ed9e401ca96.jpg  \n",
            " extracting: valid/images/images_png.rf.8a114722dc1398c5f8ed93f1c3873b9b.jpg  \n",
            " extracting: valid/images/sa_png.rf.e30e40a3f028e54f790534d8fba15385.jpg  \n",
            " extracting: valid/images/sad1_png.rf.2a2fee305536197fbfdc36732cef5043.jpg  \n",
            " extracting: valid/images/sad2_png.rf.6af6a5f04ad3d65aceefdcfd19a418ad.jpg  \n",
            " extracting: valid/images/saddd_png.rf.9560f443a7d12527966391dd3807aabb.jpg  \n",
            " extracting: valid/images/sadddd_png.rf.0143c94b8c29af795d632de504e74bf5.jpg  \n",
            "   creating: valid/labels/\n",
            "  inflating: valid/labels/-11-_jpg.rf.e0a3ffaf6cdde78698053300a3df1a34.txt  \n",
            "  inflating: valid/labels/-16-_jpg.rf.934a582f8d929a6f941c801b8d1c339d.txt  \n",
            "  inflating: valid/labels/-24-_jpg.rf.c7550157eaebc7e925303312639eaf6c.txt  \n",
            "  inflating: valid/labels/-31-_jpg.rf.173b258b43f755261096044539ab1381.txt  \n",
            "  inflating: valid/labels/-33-_jpg.rf.92c8b0b597564f5d277d89813d1bf851.txt  \n",
            "  inflating: valid/labels/-37-_jpg.rf.7bf688704c75921f773bb084c7bac228.txt  \n",
            "  inflating: valid/labels/-38-_jpg.rf.995c185b463835a7c2dcaa569147f582.txt  \n",
            "  inflating: valid/labels/-49-_jpg.rf.c8d294733d63f184f0a7e4d3982f0f24.txt  \n",
            "  inflating: valid/labels/-50-_jpg.rf.6ec879042ca4922e0dd5f7ddb46f957e.txt  \n",
            "  inflating: valid/labels/-53-_jpg.rf.1e86f08943feb02aa8cbb3d7c2d8b976.txt  \n",
            "  inflating: valid/labels/-54-_jpg.rf.31bb17d6ef669c4292e764e83d839f53.txt  \n",
            "  inflating: valid/labels/-5_jpg.rf.319413119a2ceee69e5b82e222317efd.txt  \n",
            "  inflating: valid/labels/-9-_jpg.rf.a66fb7f0ee41a7dda8c73d3a708c538b.txt  \n",
            "  inflating: valid/labels/Screenshot-2024-05-25-194828_png.rf.027df92c3cd46722c612ca75d15f81ad.txt  \n",
            "  inflating: valid/labels/Screenshot-2024-05-25-195020_png.rf.bb91bb722491d91a775df731a8eedc5c.txt  \n",
            "  inflating: valid/labels/Screenshot-2024-05-25-195118_png.rf.e38eea43f5b563a9c3ad9ed9e401ca96.txt  \n",
            "  inflating: valid/labels/images_png.rf.8a114722dc1398c5f8ed93f1c3873b9b.txt  \n",
            "  inflating: valid/labels/sa_png.rf.e30e40a3f028e54f790534d8fba15385.txt  \n",
            "  inflating: valid/labels/sad1_png.rf.2a2fee305536197fbfdc36732cef5043.txt  \n",
            "  inflating: valid/labels/sad2_png.rf.6af6a5f04ad3d65aceefdcfd19a418ad.txt  \n",
            "  inflating: valid/labels/saddd_png.rf.9560f443a7d12527966391dd3807aabb.txt  \n",
            "  inflating: valid/labels/sadddd_png.rf.0143c94b8c29af795d632de504e74bf5.txt  \n"
          ]
        }
      ],
      "source": [
        "!unzip '/content/emotion.v2i.yolov8.zip'"
      ]
    },
    {
      "cell_type": "code",
      "execution_count": null,
      "metadata": {
        "colab": {
          "base_uri": "https://localhost:8080/"
        },
        "id": "aMWa8pBq2aCQ",
        "outputId": "c0d02ed9-4c8c-4348-8b63-63a0ae275207"
      },
      "outputs": [
        {
          "output_type": "stream",
          "name": "stdout",
          "text": [
            "Ultralytics YOLOv8.2.28 🚀 Python-3.10.12 torch-2.3.0+cu121 CUDA:0 (Tesla T4, 15102MiB)\n",
            "\u001b[34m\u001b[1mengine/trainer: \u001b[0mtask=detect, mode=train, model=/content/yolov8n.pt, data=/content/data.yaml, epochs=30, time=None, patience=100, batch=32, imgsz=640, save=True, save_period=-1, cache=False, device=None, workers=8, project=None, name=yolov8n_custom_flood2, exist_ok=False, pretrained=True, optimizer=auto, verbose=True, seed=0, deterministic=True, single_cls=False, rect=False, cos_lr=False, close_mosaic=10, resume=False, amp=True, fraction=1.0, profile=False, freeze=None, multi_scale=False, overlap_mask=True, mask_ratio=4, dropout=0.0, val=True, split=val, save_json=False, save_hybrid=False, conf=None, iou=0.7, max_det=300, half=False, dnn=False, plots=True, source=None, vid_stride=1, stream_buffer=False, visualize=False, augment=False, agnostic_nms=False, classes=None, retina_masks=False, embed=None, show=False, save_frames=False, save_txt=False, save_conf=False, save_crop=False, show_labels=True, show_conf=True, show_boxes=True, line_width=None, format=torchscript, keras=False, optimize=False, int8=False, dynamic=False, simplify=False, opset=None, workspace=4, nms=False, lr0=0.01, lrf=0.01, momentum=0.937, weight_decay=0.0005, warmup_epochs=3.0, warmup_momentum=0.8, warmup_bias_lr=0.1, box=7.5, cls=0.5, dfl=1.5, pose=12.0, kobj=1.0, label_smoothing=0.0, nbs=64, hsv_h=0.015, hsv_s=0.7, hsv_v=0.4, degrees=0.0, translate=0.1, scale=0.5, shear=0.0, perspective=0.0, flipud=0.0, fliplr=0.5, bgr=0.0, mosaic=1.0, mixup=0.0, copy_paste=0.0, auto_augment=randaugment, erasing=0.4, crop_fraction=1.0, cfg=None, tracker=botsort.yaml, save_dir=runs/detect/yolov8n_custom_flood2\n",
            "Downloading https://ultralytics.com/assets/Arial.ttf to '/root/.config/Ultralytics/Arial.ttf'...\n"
          ]
        },
        {
          "output_type": "stream",
          "name": "stderr",
          "text": [
            "100%|██████████| 755k/755k [00:00<00:00, 40.9MB/s]\n"
          ]
        },
        {
          "output_type": "stream",
          "name": "stdout",
          "text": [
            "Overriding model.yaml nc=80 with nc=3\n",
            "\n",
            "                   from  n    params  module                                       arguments                     \n",
            "  0                  -1  1       464  ultralytics.nn.modules.conv.Conv             [3, 16, 3, 2]                 \n",
            "  1                  -1  1      4672  ultralytics.nn.modules.conv.Conv             [16, 32, 3, 2]                \n",
            "  2                  -1  1      7360  ultralytics.nn.modules.block.C2f             [32, 32, 1, True]             \n",
            "  3                  -1  1     18560  ultralytics.nn.modules.conv.Conv             [32, 64, 3, 2]                \n",
            "  4                  -1  2     49664  ultralytics.nn.modules.block.C2f             [64, 64, 2, True]             \n",
            "  5                  -1  1     73984  ultralytics.nn.modules.conv.Conv             [64, 128, 3, 2]               \n",
            "  6                  -1  2    197632  ultralytics.nn.modules.block.C2f             [128, 128, 2, True]           \n",
            "  7                  -1  1    295424  ultralytics.nn.modules.conv.Conv             [128, 256, 3, 2]              \n",
            "  8                  -1  1    460288  ultralytics.nn.modules.block.C2f             [256, 256, 1, True]           \n",
            "  9                  -1  1    164608  ultralytics.nn.modules.block.SPPF            [256, 256, 5]                 \n",
            " 10                  -1  1         0  torch.nn.modules.upsampling.Upsample         [None, 2, 'nearest']          \n",
            " 11             [-1, 6]  1         0  ultralytics.nn.modules.conv.Concat           [1]                           \n",
            " 12                  -1  1    148224  ultralytics.nn.modules.block.C2f             [384, 128, 1]                 \n",
            " 13                  -1  1         0  torch.nn.modules.upsampling.Upsample         [None, 2, 'nearest']          \n",
            " 14             [-1, 4]  1         0  ultralytics.nn.modules.conv.Concat           [1]                           \n",
            " 15                  -1  1     37248  ultralytics.nn.modules.block.C2f             [192, 64, 1]                  \n",
            " 16                  -1  1     36992  ultralytics.nn.modules.conv.Conv             [64, 64, 3, 2]                \n",
            " 17            [-1, 12]  1         0  ultralytics.nn.modules.conv.Concat           [1]                           \n",
            " 18                  -1  1    123648  ultralytics.nn.modules.block.C2f             [192, 128, 1]                 \n",
            " 19                  -1  1    147712  ultralytics.nn.modules.conv.Conv             [128, 128, 3, 2]              \n",
            " 20             [-1, 9]  1         0  ultralytics.nn.modules.conv.Concat           [1]                           \n",
            " 21                  -1  1    493056  ultralytics.nn.modules.block.C2f             [384, 256, 1]                 \n",
            " 22        [15, 18, 21]  1    751897  ultralytics.nn.modules.head.Detect           [3, [64, 128, 256]]           \n",
            "Model summary: 225 layers, 3011433 parameters, 3011417 gradients, 8.2 GFLOPs\n",
            "\n",
            "Transferred 319/355 items from pretrained weights\n",
            "\u001b[34m\u001b[1mTensorBoard: \u001b[0mStart with 'tensorboard --logdir runs/detect/yolov8n_custom_flood2', view at http://localhost:6006/\n",
            "Freezing layer 'model.22.dfl.conv.weight'\n",
            "\u001b[34m\u001b[1mAMP: \u001b[0mrunning Automatic Mixed Precision (AMP) checks with YOLOv8n...\n"
          ]
        },
        {
          "output_type": "stream",
          "name": "stderr",
          "text": [
            "/usr/local/lib/python3.10/dist-packages/torch/nn/modules/conv.py:456: UserWarning: Plan failed with a cudnnException: CUDNN_BACKEND_EXECUTION_PLAN_DESCRIPTOR: cudnnFinalize Descriptor Failed cudnn_status: CUDNN_STATUS_NOT_SUPPORTED (Triggered internally at ../aten/src/ATen/native/cudnn/Conv_v8.cpp:919.)\n",
            "  return F.conv2d(input, weight, bias, self.stride,\n"
          ]
        },
        {
          "output_type": "stream",
          "name": "stdout",
          "text": [
            "\u001b[34m\u001b[1mAMP: \u001b[0mchecks passed ✅\n"
          ]
        },
        {
          "output_type": "stream",
          "name": "stderr",
          "text": [
            "\u001b[34m\u001b[1mtrain: \u001b[0mScanning /content/train/labels... 159 images, 0 backgrounds, 0 corrupt: 100%|██████████| 159/159 [00:00<00:00, 1820.00it/s]"
          ]
        },
        {
          "output_type": "stream",
          "name": "stdout",
          "text": [
            "\u001b[34m\u001b[1mtrain: \u001b[0mNew cache created: /content/train/labels.cache\n"
          ]
        },
        {
          "output_type": "stream",
          "name": "stderr",
          "text": [
            "\n"
          ]
        },
        {
          "output_type": "stream",
          "name": "stdout",
          "text": [
            "\u001b[34m\u001b[1malbumentations: \u001b[0mBlur(p=0.01, blur_limit=(3, 7)), MedianBlur(p=0.01, blur_limit=(3, 7)), ToGray(p=0.01), CLAHE(p=0.01, clip_limit=(1, 4.0), tile_grid_size=(8, 8))\n"
          ]
        },
        {
          "output_type": "stream",
          "name": "stderr",
          "text": [
            "/usr/lib/python3.10/multiprocessing/popen_fork.py:66: RuntimeWarning: os.fork() was called. os.fork() is incompatible with multithreaded code, and JAX is multithreaded, so this will likely lead to a deadlock.\n",
            "  self.pid = os.fork()\n",
            "\u001b[34m\u001b[1mval: \u001b[0mScanning /content/valid/labels... 22 images, 0 backgrounds, 0 corrupt: 100%|██████████| 22/22 [00:00<00:00, 1597.53it/s]"
          ]
        },
        {
          "output_type": "stream",
          "name": "stdout",
          "text": [
            "\u001b[34m\u001b[1mval: \u001b[0mNew cache created: /content/valid/labels.cache\n"
          ]
        },
        {
          "output_type": "stream",
          "name": "stderr",
          "text": [
            "\n"
          ]
        },
        {
          "output_type": "stream",
          "name": "stdout",
          "text": [
            "Plotting labels to runs/detect/yolov8n_custom_flood2/labels.jpg... \n",
            "\u001b[34m\u001b[1moptimizer:\u001b[0m 'optimizer=auto' found, ignoring 'lr0=0.01' and 'momentum=0.937' and determining best 'optimizer', 'lr0' and 'momentum' automatically... \n",
            "\u001b[34m\u001b[1moptimizer:\u001b[0m AdamW(lr=0.001429, momentum=0.9) with parameter groups 57 weight(decay=0.0), 64 weight(decay=0.0005), 63 bias(decay=0.0)\n",
            "\u001b[34m\u001b[1mTensorBoard: \u001b[0mmodel graph visualization added ✅\n",
            "Image sizes 640 train, 640 val\n",
            "Using 2 dataloader workers\n",
            "Logging results to \u001b[1mruns/detect/yolov8n_custom_flood2\u001b[0m\n",
            "Starting training for 30 epochs...\n",
            "\n",
            "      Epoch    GPU_mem   box_loss   cls_loss   dfl_loss  Instances       Size\n"
          ]
        },
        {
          "output_type": "stream",
          "name": "stderr",
          "text": [
            "       1/30       4.8G       1.29      3.163       1.86         87        640: 100%|██████████| 5/5 [00:05<00:00,  1.08s/it]\n",
            "                 Class     Images  Instances      Box(P          R      mAP50  mAP50-95):   0%|          | 0/1 [00:00<?, ?it/s]/usr/local/lib/python3.10/dist-packages/torch/nn/modules/conv.py:456: UserWarning: Plan failed with a cudnnException: CUDNN_BACKEND_EXECUTION_PLAN_DESCRIPTOR: cudnnFinalize Descriptor Failed cudnn_status: CUDNN_STATUS_NOT_SUPPORTED (Triggered internally at ../aten/src/ATen/native/cudnn/Conv_v8.cpp:919.)\n",
            "  return F.conv2d(input, weight, bias, self.stride,\n",
            "                 Class     Images  Instances      Box(P          R      mAP50  mAP50-95): 100%|██████████| 1/1 [00:01<00:00,  1.27s/it]"
          ]
        },
        {
          "output_type": "stream",
          "name": "stdout",
          "text": [
            "                   all         22         22    0.00362          1     0.0688     0.0183\n"
          ]
        },
        {
          "output_type": "stream",
          "name": "stderr",
          "text": [
            "\n"
          ]
        },
        {
          "output_type": "stream",
          "name": "stdout",
          "text": [
            "\n",
            "      Epoch    GPU_mem   box_loss   cls_loss   dfl_loss  Instances       Size\n"
          ]
        },
        {
          "output_type": "stream",
          "name": "stderr",
          "text": [
            "       2/30      4.36G      1.233      3.093      1.825         79        640: 100%|██████████| 5/5 [00:02<00:00,  2.39it/s]\n",
            "                 Class     Images  Instances      Box(P          R      mAP50  mAP50-95): 100%|██████████| 1/1 [00:00<00:00,  1.36it/s]"
          ]
        },
        {
          "output_type": "stream",
          "name": "stdout",
          "text": [
            "                   all         22         22    0.00371          1      0.179     0.0718\n"
          ]
        },
        {
          "output_type": "stream",
          "name": "stderr",
          "text": [
            "\n"
          ]
        },
        {
          "output_type": "stream",
          "name": "stdout",
          "text": [
            "\n",
            "      Epoch    GPU_mem   box_loss   cls_loss   dfl_loss  Instances       Size\n"
          ]
        },
        {
          "output_type": "stream",
          "name": "stderr",
          "text": [
            "       3/30      4.36G      1.038      2.645      1.622         73        640: 100%|██████████| 5/5 [00:02<00:00,  1.83it/s]\n",
            "                 Class     Images  Instances      Box(P          R      mAP50  mAP50-95): 100%|██████████| 1/1 [00:00<00:00,  1.63it/s]"
          ]
        },
        {
          "output_type": "stream",
          "name": "stdout",
          "text": [
            "                   all         22         22    0.00418      0.963      0.391      0.242\n"
          ]
        },
        {
          "output_type": "stream",
          "name": "stderr",
          "text": [
            "\n"
          ]
        },
        {
          "output_type": "stream",
          "name": "stdout",
          "text": [
            "\n",
            "      Epoch    GPU_mem   box_loss   cls_loss   dfl_loss  Instances       Size\n"
          ]
        },
        {
          "output_type": "stream",
          "name": "stderr",
          "text": [
            "       4/30      4.36G      1.025       2.23        1.6         86        640: 100%|██████████| 5/5 [00:01<00:00,  2.86it/s]\n",
            "                 Class     Images  Instances      Box(P          R      mAP50  mAP50-95): 100%|██████████| 1/1 [00:00<00:00,  3.06it/s]"
          ]
        },
        {
          "output_type": "stream",
          "name": "stdout",
          "text": [
            "                   all         22         22    0.00591          1      0.454      0.326\n"
          ]
        },
        {
          "output_type": "stream",
          "name": "stderr",
          "text": [
            "\n"
          ]
        },
        {
          "output_type": "stream",
          "name": "stdout",
          "text": [
            "\n",
            "      Epoch    GPU_mem   box_loss   cls_loss   dfl_loss  Instances       Size\n"
          ]
        },
        {
          "output_type": "stream",
          "name": "stderr",
          "text": [
            "       5/30      4.36G      1.036      1.999       1.57         86        640: 100%|██████████| 5/5 [00:01<00:00,  3.04it/s]\n",
            "                 Class     Images  Instances      Box(P          R      mAP50  mAP50-95): 100%|██████████| 1/1 [00:00<00:00,  3.51it/s]"
          ]
        },
        {
          "output_type": "stream",
          "name": "stdout",
          "text": [
            "                   all         22         22      0.235      0.667      0.459      0.283\n"
          ]
        },
        {
          "output_type": "stream",
          "name": "stderr",
          "text": [
            "\n"
          ]
        },
        {
          "output_type": "stream",
          "name": "stdout",
          "text": [
            "\n",
            "      Epoch    GPU_mem   box_loss   cls_loss   dfl_loss  Instances       Size\n"
          ]
        },
        {
          "output_type": "stream",
          "name": "stderr",
          "text": [
            "       6/30      4.36G      1.053      1.936       1.57         89        640: 100%|██████████| 5/5 [00:01<00:00,  3.04it/s]\n",
            "                 Class     Images  Instances      Box(P          R      mAP50  mAP50-95): 100%|██████████| 1/1 [00:00<00:00,  3.19it/s]"
          ]
        },
        {
          "output_type": "stream",
          "name": "stdout",
          "text": [
            "                   all         22         22      0.584      0.333      0.489      0.291\n"
          ]
        },
        {
          "output_type": "stream",
          "name": "stderr",
          "text": [
            "\n"
          ]
        },
        {
          "output_type": "stream",
          "name": "stdout",
          "text": [
            "\n",
            "      Epoch    GPU_mem   box_loss   cls_loss   dfl_loss  Instances       Size\n"
          ]
        },
        {
          "output_type": "stream",
          "name": "stderr",
          "text": [
            "       7/30      4.36G      1.009      1.784      1.527         81        640: 100%|██████████| 5/5 [00:01<00:00,  2.65it/s]\n",
            "                 Class     Images  Instances      Box(P          R      mAP50  mAP50-95): 100%|██████████| 1/1 [00:00<00:00,  1.97it/s]"
          ]
        },
        {
          "output_type": "stream",
          "name": "stdout",
          "text": [
            "                   all         22         22       0.55       0.29      0.537      0.306\n"
          ]
        },
        {
          "output_type": "stream",
          "name": "stderr",
          "text": [
            "\n"
          ]
        },
        {
          "output_type": "stream",
          "name": "stdout",
          "text": [
            "\n",
            "      Epoch    GPU_mem   box_loss   cls_loss   dfl_loss  Instances       Size\n"
          ]
        },
        {
          "output_type": "stream",
          "name": "stderr",
          "text": [
            "       8/30      4.37G      1.037      1.705      1.537         82        640: 100%|██████████| 5/5 [00:02<00:00,  2.32it/s]\n",
            "                 Class     Images  Instances      Box(P          R      mAP50  mAP50-95): 100%|██████████| 1/1 [00:00<00:00,  1.58it/s]"
          ]
        },
        {
          "output_type": "stream",
          "name": "stdout",
          "text": [
            "                   all         22         22      0.608      0.642       0.73       0.45\n"
          ]
        },
        {
          "output_type": "stream",
          "name": "stderr",
          "text": [
            "\n"
          ]
        },
        {
          "output_type": "stream",
          "name": "stdout",
          "text": [
            "\n",
            "      Epoch    GPU_mem   box_loss   cls_loss   dfl_loss  Instances       Size\n"
          ]
        },
        {
          "output_type": "stream",
          "name": "stderr",
          "text": [
            "       9/30      4.36G     0.9488      1.615      1.501         78        640: 100%|██████████| 5/5 [00:01<00:00,  2.94it/s]\n",
            "                 Class     Images  Instances      Box(P          R      mAP50  mAP50-95): 100%|██████████| 1/1 [00:00<00:00,  3.44it/s]"
          ]
        },
        {
          "output_type": "stream",
          "name": "stdout",
          "text": [
            "                   all         22         22      0.868      0.197      0.449      0.249\n"
          ]
        },
        {
          "output_type": "stream",
          "name": "stderr",
          "text": [
            "\n"
          ]
        },
        {
          "output_type": "stream",
          "name": "stdout",
          "text": [
            "\n",
            "      Epoch    GPU_mem   box_loss   cls_loss   dfl_loss  Instances       Size\n"
          ]
        },
        {
          "output_type": "stream",
          "name": "stderr",
          "text": [
            "      10/30      4.36G     0.9418      1.579      1.446         80        640: 100%|██████████| 5/5 [00:01<00:00,  2.98it/s]\n",
            "                 Class     Images  Instances      Box(P          R      mAP50  mAP50-95): 100%|██████████| 1/1 [00:00<00:00,  2.69it/s]"
          ]
        },
        {
          "output_type": "stream",
          "name": "stdout",
          "text": [
            "                   all         22         22      0.576      0.541      0.627      0.384\n"
          ]
        },
        {
          "output_type": "stream",
          "name": "stderr",
          "text": [
            "\n"
          ]
        },
        {
          "output_type": "stream",
          "name": "stdout",
          "text": [
            "\n",
            "      Epoch    GPU_mem   box_loss   cls_loss   dfl_loss  Instances       Size\n"
          ]
        },
        {
          "output_type": "stream",
          "name": "stderr",
          "text": [
            "      11/30      4.37G     0.9499      1.516      1.476         74        640: 100%|██████████| 5/5 [00:01<00:00,  3.20it/s]\n",
            "                 Class     Images  Instances      Box(P          R      mAP50  mAP50-95): 100%|██████████| 1/1 [00:00<00:00,  3.58it/s]"
          ]
        },
        {
          "output_type": "stream",
          "name": "stdout",
          "text": [
            "                   all         22         22      0.932      0.413      0.632      0.404\n"
          ]
        },
        {
          "output_type": "stream",
          "name": "stderr",
          "text": [
            "\n"
          ]
        },
        {
          "output_type": "stream",
          "name": "stdout",
          "text": [
            "\n",
            "      Epoch    GPU_mem   box_loss   cls_loss   dfl_loss  Instances       Size\n"
          ]
        },
        {
          "output_type": "stream",
          "name": "stderr",
          "text": [
            "      12/30      4.37G     0.9341      1.505       1.47         77        640: 100%|██████████| 5/5 [00:01<00:00,  2.66it/s]\n",
            "                 Class     Images  Instances      Box(P          R      mAP50  mAP50-95): 100%|██████████| 1/1 [00:00<00:00,  1.71it/s]"
          ]
        },
        {
          "output_type": "stream",
          "name": "stdout",
          "text": [
            "                   all         22         22      0.911      0.593      0.616      0.401\n"
          ]
        },
        {
          "output_type": "stream",
          "name": "stderr",
          "text": [
            "\n"
          ]
        },
        {
          "output_type": "stream",
          "name": "stdout",
          "text": [
            "\n",
            "      Epoch    GPU_mem   box_loss   cls_loss   dfl_loss  Instances       Size\n"
          ]
        },
        {
          "output_type": "stream",
          "name": "stderr",
          "text": [
            "      13/30      4.37G     0.9433      1.404      1.426         85        640: 100%|██████████| 5/5 [00:02<00:00,  2.12it/s]\n",
            "                 Class     Images  Instances      Box(P          R      mAP50  mAP50-95): 100%|██████████| 1/1 [00:00<00:00,  1.81it/s]"
          ]
        },
        {
          "output_type": "stream",
          "name": "stdout",
          "text": [
            "                   all         22         22      0.474      0.525      0.517      0.316\n"
          ]
        },
        {
          "output_type": "stream",
          "name": "stderr",
          "text": [
            "\n"
          ]
        },
        {
          "output_type": "stream",
          "name": "stdout",
          "text": [
            "\n",
            "      Epoch    GPU_mem   box_loss   cls_loss   dfl_loss  Instances       Size\n"
          ]
        },
        {
          "output_type": "stream",
          "name": "stderr",
          "text": [
            "      14/30      4.37G     0.9366      1.403      1.462         84        640: 100%|██████████| 5/5 [00:01<00:00,  3.09it/s]\n",
            "                 Class     Images  Instances      Box(P          R      mAP50  mAP50-95): 100%|██████████| 1/1 [00:00<00:00,  3.52it/s]"
          ]
        },
        {
          "output_type": "stream",
          "name": "stdout",
          "text": [
            "                   all         22         22      0.777      0.398      0.422      0.263\n"
          ]
        },
        {
          "output_type": "stream",
          "name": "stderr",
          "text": [
            "\n"
          ]
        },
        {
          "output_type": "stream",
          "name": "stdout",
          "text": [
            "\n",
            "      Epoch    GPU_mem   box_loss   cls_loss   dfl_loss  Instances       Size\n"
          ]
        },
        {
          "output_type": "stream",
          "name": "stderr",
          "text": [
            "      15/30      4.37G     0.9181      1.357      1.454         72        640: 100%|██████████| 5/5 [00:01<00:00,  3.37it/s]\n",
            "                 Class     Images  Instances      Box(P          R      mAP50  mAP50-95): 100%|██████████| 1/1 [00:00<00:00,  3.17it/s]"
          ]
        },
        {
          "output_type": "stream",
          "name": "stdout",
          "text": [
            "                   all         22         22      0.882      0.416      0.486      0.288\n"
          ]
        },
        {
          "output_type": "stream",
          "name": "stderr",
          "text": [
            "\n"
          ]
        },
        {
          "output_type": "stream",
          "name": "stdout",
          "text": [
            "\n",
            "      Epoch    GPU_mem   box_loss   cls_loss   dfl_loss  Instances       Size\n"
          ]
        },
        {
          "output_type": "stream",
          "name": "stderr",
          "text": [
            "      16/30      4.37G     0.8482      1.216       1.38         88        640: 100%|██████████| 5/5 [00:01<00:00,  3.02it/s]\n",
            "                 Class     Images  Instances      Box(P          R      mAP50  mAP50-95): 100%|██████████| 1/1 [00:00<00:00,  3.57it/s]"
          ]
        },
        {
          "output_type": "stream",
          "name": "stdout",
          "text": [
            "                   all         22         22       0.87      0.536      0.547      0.343\n"
          ]
        },
        {
          "output_type": "stream",
          "name": "stderr",
          "text": [
            "\n"
          ]
        },
        {
          "output_type": "stream",
          "name": "stdout",
          "text": [
            "\n",
            "      Epoch    GPU_mem   box_loss   cls_loss   dfl_loss  Instances       Size\n"
          ]
        },
        {
          "output_type": "stream",
          "name": "stderr",
          "text": [
            "      17/30      4.37G     0.9276      1.302      1.427         86        640: 100%|██████████| 5/5 [00:01<00:00,  2.91it/s]\n",
            "                 Class     Images  Instances      Box(P          R      mAP50  mAP50-95): 100%|██████████| 1/1 [00:00<00:00,  1.94it/s]"
          ]
        },
        {
          "output_type": "stream",
          "name": "stdout",
          "text": [
            "                   all         22         22       0.92      0.512      0.563       0.38\n"
          ]
        },
        {
          "output_type": "stream",
          "name": "stderr",
          "text": [
            "\n"
          ]
        },
        {
          "output_type": "stream",
          "name": "stdout",
          "text": [
            "\n",
            "      Epoch    GPU_mem   box_loss   cls_loss   dfl_loss  Instances       Size\n"
          ]
        },
        {
          "output_type": "stream",
          "name": "stderr",
          "text": [
            "      18/30      4.37G     0.8688      1.222      1.392         77        640: 100%|██████████| 5/5 [00:02<00:00,  2.29it/s]\n",
            "                 Class     Images  Instances      Box(P          R      mAP50  mAP50-95): 100%|██████████| 1/1 [00:00<00:00,  1.59it/s]"
          ]
        },
        {
          "output_type": "stream",
          "name": "stdout",
          "text": [
            "                   all         22         22        0.5      0.431      0.491      0.326\n"
          ]
        },
        {
          "output_type": "stream",
          "name": "stderr",
          "text": [
            "\n"
          ]
        },
        {
          "output_type": "stream",
          "name": "stdout",
          "text": [
            "\n",
            "      Epoch    GPU_mem   box_loss   cls_loss   dfl_loss  Instances       Size\n"
          ]
        },
        {
          "output_type": "stream",
          "name": "stderr",
          "text": [
            "      19/30      4.37G     0.8039       1.22      1.344         83        640: 100%|██████████| 5/5 [00:01<00:00,  3.34it/s]\n",
            "                 Class     Images  Instances      Box(P          R      mAP50  mAP50-95): 100%|██████████| 1/1 [00:00<00:00,  3.42it/s]"
          ]
        },
        {
          "output_type": "stream",
          "name": "stdout",
          "text": [
            "                   all         22         22      0.866      0.366      0.434      0.259\n"
          ]
        },
        {
          "output_type": "stream",
          "name": "stderr",
          "text": [
            "\n"
          ]
        },
        {
          "output_type": "stream",
          "name": "stdout",
          "text": [
            "\n",
            "      Epoch    GPU_mem   box_loss   cls_loss   dfl_loss  Instances       Size\n"
          ]
        },
        {
          "output_type": "stream",
          "name": "stderr",
          "text": [
            "      20/30      4.37G     0.8005      1.088      1.333         88        640: 100%|██████████| 5/5 [00:01<00:00,  3.21it/s]\n",
            "                 Class     Images  Instances      Box(P          R      mAP50  mAP50-95): 100%|██████████| 1/1 [00:00<00:00,  3.03it/s]"
          ]
        },
        {
          "output_type": "stream",
          "name": "stdout",
          "text": [
            "                   all         22         22      0.915      0.519      0.571      0.382\n"
          ]
        },
        {
          "output_type": "stream",
          "name": "stderr",
          "text": [
            "\n"
          ]
        },
        {
          "output_type": "stream",
          "name": "stdout",
          "text": [
            "Closing dataloader mosaic\n",
            "\u001b[34m\u001b[1malbumentations: \u001b[0mBlur(p=0.01, blur_limit=(3, 7)), MedianBlur(p=0.01, blur_limit=(3, 7)), ToGray(p=0.01), CLAHE(p=0.01, clip_limit=(1, 4.0), tile_grid_size=(8, 8))\n"
          ]
        },
        {
          "output_type": "stream",
          "name": "stderr",
          "text": [
            "/usr/lib/python3.10/multiprocessing/popen_fork.py:66: RuntimeWarning: os.fork() was called. os.fork() is incompatible with multithreaded code, and JAX is multithreaded, so this will likely lead to a deadlock.\n",
            "  self.pid = os.fork()\n"
          ]
        },
        {
          "output_type": "stream",
          "name": "stdout",
          "text": [
            "\n",
            "      Epoch    GPU_mem   box_loss   cls_loss   dfl_loss  Instances       Size\n"
          ]
        },
        {
          "output_type": "stream",
          "name": "stderr",
          "text": [
            "      21/30      4.74G     0.7625      1.746       1.53         31        640: 100%|██████████| 5/5 [00:04<00:00,  1.10it/s]\n",
            "                 Class     Images  Instances      Box(P          R      mAP50  mAP50-95): 100%|██████████| 1/1 [00:00<00:00,  1.95it/s]"
          ]
        },
        {
          "output_type": "stream",
          "name": "stdout",
          "text": [
            "                   all         22         22      0.928      0.579      0.657      0.407\n"
          ]
        },
        {
          "output_type": "stream",
          "name": "stderr",
          "text": [
            "\n"
          ]
        },
        {
          "output_type": "stream",
          "name": "stdout",
          "text": [
            "\n",
            "      Epoch    GPU_mem   box_loss   cls_loss   dfl_loss  Instances       Size\n"
          ]
        },
        {
          "output_type": "stream",
          "name": "stderr",
          "text": [
            "      22/30      4.37G      0.683      1.609      1.443         31        640: 100%|██████████| 5/5 [00:02<00:00,  1.88it/s]\n",
            "                 Class     Images  Instances      Box(P          R      mAP50  mAP50-95): 100%|██████████| 1/1 [00:00<00:00,  2.12it/s]"
          ]
        },
        {
          "output_type": "stream",
          "name": "stdout",
          "text": [
            "                   all         22         22      0.389      0.593      0.585      0.335\n"
          ]
        },
        {
          "output_type": "stream",
          "name": "stderr",
          "text": [
            "\n"
          ]
        },
        {
          "output_type": "stream",
          "name": "stdout",
          "text": [
            "\n",
            "      Epoch    GPU_mem   box_loss   cls_loss   dfl_loss  Instances       Size\n"
          ]
        },
        {
          "output_type": "stream",
          "name": "stderr",
          "text": [
            "      23/30      4.37G     0.7264      1.462      1.461         31        640: 100%|██████████| 5/5 [00:01<00:00,  3.12it/s]\n",
            "                 Class     Images  Instances      Box(P          R      mAP50  mAP50-95): 100%|██████████| 1/1 [00:00<00:00,  3.28it/s]"
          ]
        },
        {
          "output_type": "stream",
          "name": "stdout",
          "text": [
            "                   all         22         22      0.921      0.542      0.641      0.395\n"
          ]
        },
        {
          "output_type": "stream",
          "name": "stderr",
          "text": [
            "\n"
          ]
        },
        {
          "output_type": "stream",
          "name": "stdout",
          "text": [
            "\n",
            "      Epoch    GPU_mem   box_loss   cls_loss   dfl_loss  Instances       Size\n"
          ]
        },
        {
          "output_type": "stream",
          "name": "stderr",
          "text": [
            "      24/30      4.37G     0.6694      1.463       1.49         31        640: 100%|██████████| 5/5 [00:01<00:00,  3.37it/s]\n",
            "                 Class     Images  Instances      Box(P          R      mAP50  mAP50-95): 100%|██████████| 1/1 [00:00<00:00,  3.68it/s]"
          ]
        },
        {
          "output_type": "stream",
          "name": "stdout",
          "text": [
            "                   all         22         22      0.834      0.765      0.818       0.57\n"
          ]
        },
        {
          "output_type": "stream",
          "name": "stderr",
          "text": [
            "\n"
          ]
        },
        {
          "output_type": "stream",
          "name": "stdout",
          "text": [
            "\n",
            "      Epoch    GPU_mem   box_loss   cls_loss   dfl_loss  Instances       Size\n"
          ]
        },
        {
          "output_type": "stream",
          "name": "stderr",
          "text": [
            "      25/30      4.37G     0.6385      1.283      1.399         31        640: 100%|██████████| 5/5 [00:01<00:00,  3.35it/s]\n",
            "                 Class     Images  Instances      Box(P          R      mAP50  mAP50-95): 100%|██████████| 1/1 [00:00<00:00,  3.63it/s]"
          ]
        },
        {
          "output_type": "stream",
          "name": "stdout",
          "text": [
            "                   all         22         22      0.958      0.718      0.846      0.613\n"
          ]
        },
        {
          "output_type": "stream",
          "name": "stderr",
          "text": [
            "\n"
          ]
        },
        {
          "output_type": "stream",
          "name": "stdout",
          "text": [
            "\n",
            "      Epoch    GPU_mem   box_loss   cls_loss   dfl_loss  Instances       Size\n"
          ]
        },
        {
          "output_type": "stream",
          "name": "stderr",
          "text": [
            "      26/30      4.37G     0.6108       1.21      1.352         31        640: 100%|██████████| 5/5 [00:01<00:00,  2.99it/s]\n",
            "                 Class     Images  Instances      Box(P          R      mAP50  mAP50-95): 100%|██████████| 1/1 [00:00<00:00,  1.74it/s]"
          ]
        },
        {
          "output_type": "stream",
          "name": "stdout",
          "text": [
            "                   all         22         22      0.844      0.825      0.835      0.549\n"
          ]
        },
        {
          "output_type": "stream",
          "name": "stderr",
          "text": [
            "\n"
          ]
        },
        {
          "output_type": "stream",
          "name": "stdout",
          "text": [
            "\n",
            "      Epoch    GPU_mem   box_loss   cls_loss   dfl_loss  Instances       Size\n"
          ]
        },
        {
          "output_type": "stream",
          "name": "stderr",
          "text": [
            "      27/30      4.37G     0.6055      1.186      1.372         31        640: 100%|██████████| 5/5 [00:01<00:00,  2.55it/s]\n",
            "                 Class     Images  Instances      Box(P          R      mAP50  mAP50-95): 100%|██████████| 1/1 [00:00<00:00,  1.53it/s]"
          ]
        },
        {
          "output_type": "stream",
          "name": "stdout",
          "text": [
            "                   all         22         22      0.859      0.829      0.879       0.59\n"
          ]
        },
        {
          "output_type": "stream",
          "name": "stderr",
          "text": [
            "\n"
          ]
        },
        {
          "output_type": "stream",
          "name": "stdout",
          "text": [
            "\n",
            "      Epoch    GPU_mem   box_loss   cls_loss   dfl_loss  Instances       Size\n"
          ]
        },
        {
          "output_type": "stream",
          "name": "stderr",
          "text": [
            "      28/30      4.37G      0.563      1.143      1.274         31        640: 100%|██████████| 5/5 [00:01<00:00,  2.83it/s]\n",
            "                 Class     Images  Instances      Box(P          R      mAP50  mAP50-95): 100%|██████████| 1/1 [00:00<00:00,  3.03it/s]"
          ]
        },
        {
          "output_type": "stream",
          "name": "stdout",
          "text": [
            "                   all         22         22      0.856      0.943      0.937       0.67\n"
          ]
        },
        {
          "output_type": "stream",
          "name": "stderr",
          "text": [
            "\n"
          ]
        },
        {
          "output_type": "stream",
          "name": "stdout",
          "text": [
            "\n",
            "      Epoch    GPU_mem   box_loss   cls_loss   dfl_loss  Instances       Size\n"
          ]
        },
        {
          "output_type": "stream",
          "name": "stderr",
          "text": [
            "      29/30      4.37G     0.5848      1.182       1.36         31        640: 100%|██████████| 5/5 [00:01<00:00,  3.34it/s]\n",
            "                 Class     Images  Instances      Box(P          R      mAP50  mAP50-95): 100%|██████████| 1/1 [00:00<00:00,  2.55it/s]"
          ]
        },
        {
          "output_type": "stream",
          "name": "stdout",
          "text": [
            "                   all         22         22      0.876      0.968      0.937      0.685\n"
          ]
        },
        {
          "output_type": "stream",
          "name": "stderr",
          "text": [
            "\n"
          ]
        },
        {
          "output_type": "stream",
          "name": "stdout",
          "text": [
            "\n",
            "      Epoch    GPU_mem   box_loss   cls_loss   dfl_loss  Instances       Size\n"
          ]
        },
        {
          "output_type": "stream",
          "name": "stderr",
          "text": [
            "      30/30      4.37G     0.5217      1.107      1.266         31        640: 100%|██████████| 5/5 [00:01<00:00,  3.13it/s]\n",
            "                 Class     Images  Instances      Box(P          R      mAP50  mAP50-95): 100%|██████████| 1/1 [00:00<00:00,  3.55it/s]"
          ]
        },
        {
          "output_type": "stream",
          "name": "stdout",
          "text": [
            "                   all         22         22      0.862       0.92      0.937      0.674\n"
          ]
        },
        {
          "output_type": "stream",
          "name": "stderr",
          "text": [
            "\n"
          ]
        },
        {
          "output_type": "stream",
          "name": "stdout",
          "text": [
            "\n",
            "30 epochs completed in 0.035 hours.\n",
            "Optimizer stripped from runs/detect/yolov8n_custom_flood2/weights/last.pt, 6.3MB\n",
            "Optimizer stripped from runs/detect/yolov8n_custom_flood2/weights/best.pt, 6.2MB\n",
            "\n",
            "Validating runs/detect/yolov8n_custom_flood2/weights/best.pt...\n",
            "Ultralytics YOLOv8.2.28 🚀 Python-3.10.12 torch-2.3.0+cu121 CUDA:0 (Tesla T4, 15102MiB)\n",
            "Model summary (fused): 168 layers, 3006233 parameters, 0 gradients, 8.1 GFLOPs\n"
          ]
        },
        {
          "output_type": "stream",
          "name": "stderr",
          "text": [
            "                 Class     Images  Instances      Box(P          R      mAP50  mAP50-95): 100%|██████████| 1/1 [00:00<00:00,  5.77it/s]\n"
          ]
        },
        {
          "output_type": "stream",
          "name": "stdout",
          "text": [
            "                   all         22         22      0.877      0.968      0.937      0.685\n",
            "                 happy         11         11      0.999      0.909      0.988      0.735\n",
            "               neutral          2          2      0.631          1      0.828      0.745\n",
            "                   sad          9          9          1      0.995      0.995      0.576\n",
            "Speed: 0.2ms preprocess, 2.2ms inference, 0.0ms loss, 1.3ms postprocess per image\n",
            "Results saved to \u001b[1mruns/detect/yolov8n_custom_flood2\u001b[0m\n"
          ]
        }
      ],
      "source": [
        "results = model.train(\n",
        "\n",
        "\n",
        "   data='/content/data.yaml',\n",
        "   imgsz=640,\n",
        "   epochs=30,\n",
        "   batch=32,\n",
        "   name='yolov8n_custom_flood')"
      ]
    },
    {
      "cell_type": "code",
      "execution_count": null,
      "metadata": {
        "id": "8UCO4w7N2iw8",
        "colab": {
          "base_uri": "https://localhost:8080/"
        },
        "outputId": "762a7a0d-b558-43d7-8c72-427615630703"
      },
      "outputs": [
        {
          "output_type": "stream",
          "name": "stdout",
          "text": [
            "Ultralytics YOLOv8.2.28 🚀 Python-3.10.12 torch-2.3.0+cu121 CUDA:0 (Tesla T4, 15102MiB)\n",
            "Model summary (fused): 168 layers, 3006233 parameters, 0 gradients, 8.1 GFLOPs\n"
          ]
        },
        {
          "output_type": "stream",
          "name": "stderr",
          "text": [
            "\u001b[34m\u001b[1mval: \u001b[0mScanning /content/valid/labels.cache... 22 images, 0 backgrounds, 0 corrupt: 100%|██████████| 22/22 [00:00<?, ?it/s]\n",
            "/usr/lib/python3.10/multiprocessing/popen_fork.py:66: RuntimeWarning: os.fork() was called. os.fork() is incompatible with multithreaded code, and JAX is multithreaded, so this will likely lead to a deadlock.\n",
            "  self.pid = os.fork()\n",
            "                 Class     Images  Instances      Box(P          R      mAP50  mAP50-95): 100%|██████████| 2/2 [00:01<00:00,  1.19it/s]\n"
          ]
        },
        {
          "output_type": "stream",
          "name": "stdout",
          "text": [
            "                   all         22         22      0.877      0.969      0.937      0.685\n",
            "                 happy         11         11      0.997      0.909      0.988      0.735\n",
            "               neutral          2          2      0.634          1      0.828      0.745\n",
            "                   sad          9          9          1      0.997      0.995      0.576\n",
            "Speed: 0.5ms preprocess, 37.7ms inference, 0.0ms loss, 2.5ms postprocess per image\n",
            "Results saved to \u001b[1mruns/detect/val\u001b[0m\n"
          ]
        }
      ],
      "source": [
        "model = YOLO(model='/content/runs/detect/yolov8n_custom_flood2/weights/best.pt')\n",
        " # load a custom model\n",
        "\n",
        "# Validate the model\n",
        "results = model.val()"
      ]
    },
    {
      "cell_type": "code",
      "source": [],
      "metadata": {
        "id": "83hdLQ7QyzTt"
      },
      "execution_count": null,
      "outputs": []
    }
  ],
  "metadata": {
    "accelerator": "GPU",
    "colab": {
      "gpuType": "T4",
      "provenance": []
    },
    "kernelspec": {
      "display_name": "Python 3",
      "name": "python3"
    },
    "language_info": {
      "name": "python"
    }
  },
  "nbformat": 4,
  "nbformat_minor": 0
}